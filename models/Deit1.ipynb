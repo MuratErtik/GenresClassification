{
  "nbformat": 4,
  "nbformat_minor": 0,
  "metadata": {
    "colab": {
      "provenance": [],
      "machine_shape": "hm",
      "gpuType": "A100"
    },
    "kernelspec": {
      "name": "python3",
      "display_name": "Python 3"
    },
    "language_info": {
      "name": "python"
    },
    "accelerator": "GPU",
    "widgets": {
      "application/vnd.jupyter.widget-state+json": {
        "03f20eeacaf5401c92199cbfcfb487b2": {
          "model_module": "@jupyter-widgets/controls",
          "model_name": "HBoxModel",
          "model_module_version": "1.5.0",
          "state": {
            "_dom_classes": [],
            "_model_module": "@jupyter-widgets/controls",
            "_model_module_version": "1.5.0",
            "_model_name": "HBoxModel",
            "_view_count": null,
            "_view_module": "@jupyter-widgets/controls",
            "_view_module_version": "1.5.0",
            "_view_name": "HBoxView",
            "box_style": "",
            "children": [
              "IPY_MODEL_5c667dc3ed9c41b9bcab356217730833",
              "IPY_MODEL_bfe7ba7b8ae6436cad5ee5c6a8c162fb",
              "IPY_MODEL_4f287a1e7a374668ba39c6e4ecd3144c"
            ],
            "layout": "IPY_MODEL_f64940b04c984b7caabe28594a5b7b7f"
          }
        },
        "5c667dc3ed9c41b9bcab356217730833": {
          "model_module": "@jupyter-widgets/controls",
          "model_name": "HTMLModel",
          "model_module_version": "1.5.0",
          "state": {
            "_dom_classes": [],
            "_model_module": "@jupyter-widgets/controls",
            "_model_module_version": "1.5.0",
            "_model_name": "HTMLModel",
            "_view_count": null,
            "_view_module": "@jupyter-widgets/controls",
            "_view_module_version": "1.5.0",
            "_view_name": "HTMLView",
            "description": "",
            "description_tooltip": null,
            "layout": "IPY_MODEL_a5ed47ebfe384f4b895179ba984684f0",
            "placeholder": "​",
            "style": "IPY_MODEL_1a931e2e96b44e2694ab199d581de54f",
            "value": "model.safetensors: 100%"
          }
        },
        "bfe7ba7b8ae6436cad5ee5c6a8c162fb": {
          "model_module": "@jupyter-widgets/controls",
          "model_name": "FloatProgressModel",
          "model_module_version": "1.5.0",
          "state": {
            "_dom_classes": [],
            "_model_module": "@jupyter-widgets/controls",
            "_model_module_version": "1.5.0",
            "_model_name": "FloatProgressModel",
            "_view_count": null,
            "_view_module": "@jupyter-widgets/controls",
            "_view_module_version": "1.5.0",
            "_view_name": "ProgressView",
            "bar_style": "success",
            "description": "",
            "description_tooltip": null,
            "layout": "IPY_MODEL_8de7601b68554f20a7c764fe219a6898",
            "max": 346284714,
            "min": 0,
            "orientation": "horizontal",
            "style": "IPY_MODEL_cc2a0e8b33c440f4983f6bd4aaca222b",
            "value": 346284714
          }
        },
        "4f287a1e7a374668ba39c6e4ecd3144c": {
          "model_module": "@jupyter-widgets/controls",
          "model_name": "HTMLModel",
          "model_module_version": "1.5.0",
          "state": {
            "_dom_classes": [],
            "_model_module": "@jupyter-widgets/controls",
            "_model_module_version": "1.5.0",
            "_model_name": "HTMLModel",
            "_view_count": null,
            "_view_module": "@jupyter-widgets/controls",
            "_view_module_version": "1.5.0",
            "_view_name": "HTMLView",
            "description": "",
            "description_tooltip": null,
            "layout": "IPY_MODEL_609093f463324658bcf68d74777578fc",
            "placeholder": "​",
            "style": "IPY_MODEL_7fb37f1c88e9416cb941031c3ef6e3b8",
            "value": " 346M/346M [00:00&lt;00:00, 455MB/s]"
          }
        },
        "f64940b04c984b7caabe28594a5b7b7f": {
          "model_module": "@jupyter-widgets/base",
          "model_name": "LayoutModel",
          "model_module_version": "1.2.0",
          "state": {
            "_model_module": "@jupyter-widgets/base",
            "_model_module_version": "1.2.0",
            "_model_name": "LayoutModel",
            "_view_count": null,
            "_view_module": "@jupyter-widgets/base",
            "_view_module_version": "1.2.0",
            "_view_name": "LayoutView",
            "align_content": null,
            "align_items": null,
            "align_self": null,
            "border": null,
            "bottom": null,
            "display": null,
            "flex": null,
            "flex_flow": null,
            "grid_area": null,
            "grid_auto_columns": null,
            "grid_auto_flow": null,
            "grid_auto_rows": null,
            "grid_column": null,
            "grid_gap": null,
            "grid_row": null,
            "grid_template_areas": null,
            "grid_template_columns": null,
            "grid_template_rows": null,
            "height": null,
            "justify_content": null,
            "justify_items": null,
            "left": null,
            "margin": null,
            "max_height": null,
            "max_width": null,
            "min_height": null,
            "min_width": null,
            "object_fit": null,
            "object_position": null,
            "order": null,
            "overflow": null,
            "overflow_x": null,
            "overflow_y": null,
            "padding": null,
            "right": null,
            "top": null,
            "visibility": null,
            "width": null
          }
        },
        "a5ed47ebfe384f4b895179ba984684f0": {
          "model_module": "@jupyter-widgets/base",
          "model_name": "LayoutModel",
          "model_module_version": "1.2.0",
          "state": {
            "_model_module": "@jupyter-widgets/base",
            "_model_module_version": "1.2.0",
            "_model_name": "LayoutModel",
            "_view_count": null,
            "_view_module": "@jupyter-widgets/base",
            "_view_module_version": "1.2.0",
            "_view_name": "LayoutView",
            "align_content": null,
            "align_items": null,
            "align_self": null,
            "border": null,
            "bottom": null,
            "display": null,
            "flex": null,
            "flex_flow": null,
            "grid_area": null,
            "grid_auto_columns": null,
            "grid_auto_flow": null,
            "grid_auto_rows": null,
            "grid_column": null,
            "grid_gap": null,
            "grid_row": null,
            "grid_template_areas": null,
            "grid_template_columns": null,
            "grid_template_rows": null,
            "height": null,
            "justify_content": null,
            "justify_items": null,
            "left": null,
            "margin": null,
            "max_height": null,
            "max_width": null,
            "min_height": null,
            "min_width": null,
            "object_fit": null,
            "object_position": null,
            "order": null,
            "overflow": null,
            "overflow_x": null,
            "overflow_y": null,
            "padding": null,
            "right": null,
            "top": null,
            "visibility": null,
            "width": null
          }
        },
        "1a931e2e96b44e2694ab199d581de54f": {
          "model_module": "@jupyter-widgets/controls",
          "model_name": "DescriptionStyleModel",
          "model_module_version": "1.5.0",
          "state": {
            "_model_module": "@jupyter-widgets/controls",
            "_model_module_version": "1.5.0",
            "_model_name": "DescriptionStyleModel",
            "_view_count": null,
            "_view_module": "@jupyter-widgets/base",
            "_view_module_version": "1.2.0",
            "_view_name": "StyleView",
            "description_width": ""
          }
        },
        "8de7601b68554f20a7c764fe219a6898": {
          "model_module": "@jupyter-widgets/base",
          "model_name": "LayoutModel",
          "model_module_version": "1.2.0",
          "state": {
            "_model_module": "@jupyter-widgets/base",
            "_model_module_version": "1.2.0",
            "_model_name": "LayoutModel",
            "_view_count": null,
            "_view_module": "@jupyter-widgets/base",
            "_view_module_version": "1.2.0",
            "_view_name": "LayoutView",
            "align_content": null,
            "align_items": null,
            "align_self": null,
            "border": null,
            "bottom": null,
            "display": null,
            "flex": null,
            "flex_flow": null,
            "grid_area": null,
            "grid_auto_columns": null,
            "grid_auto_flow": null,
            "grid_auto_rows": null,
            "grid_column": null,
            "grid_gap": null,
            "grid_row": null,
            "grid_template_areas": null,
            "grid_template_columns": null,
            "grid_template_rows": null,
            "height": null,
            "justify_content": null,
            "justify_items": null,
            "left": null,
            "margin": null,
            "max_height": null,
            "max_width": null,
            "min_height": null,
            "min_width": null,
            "object_fit": null,
            "object_position": null,
            "order": null,
            "overflow": null,
            "overflow_x": null,
            "overflow_y": null,
            "padding": null,
            "right": null,
            "top": null,
            "visibility": null,
            "width": null
          }
        },
        "cc2a0e8b33c440f4983f6bd4aaca222b": {
          "model_module": "@jupyter-widgets/controls",
          "model_name": "ProgressStyleModel",
          "model_module_version": "1.5.0",
          "state": {
            "_model_module": "@jupyter-widgets/controls",
            "_model_module_version": "1.5.0",
            "_model_name": "ProgressStyleModel",
            "_view_count": null,
            "_view_module": "@jupyter-widgets/base",
            "_view_module_version": "1.2.0",
            "_view_name": "StyleView",
            "bar_color": null,
            "description_width": ""
          }
        },
        "609093f463324658bcf68d74777578fc": {
          "model_module": "@jupyter-widgets/base",
          "model_name": "LayoutModel",
          "model_module_version": "1.2.0",
          "state": {
            "_model_module": "@jupyter-widgets/base",
            "_model_module_version": "1.2.0",
            "_model_name": "LayoutModel",
            "_view_count": null,
            "_view_module": "@jupyter-widgets/base",
            "_view_module_version": "1.2.0",
            "_view_name": "LayoutView",
            "align_content": null,
            "align_items": null,
            "align_self": null,
            "border": null,
            "bottom": null,
            "display": null,
            "flex": null,
            "flex_flow": null,
            "grid_area": null,
            "grid_auto_columns": null,
            "grid_auto_flow": null,
            "grid_auto_rows": null,
            "grid_column": null,
            "grid_gap": null,
            "grid_row": null,
            "grid_template_areas": null,
            "grid_template_columns": null,
            "grid_template_rows": null,
            "height": null,
            "justify_content": null,
            "justify_items": null,
            "left": null,
            "margin": null,
            "max_height": null,
            "max_width": null,
            "min_height": null,
            "min_width": null,
            "object_fit": null,
            "object_position": null,
            "order": null,
            "overflow": null,
            "overflow_x": null,
            "overflow_y": null,
            "padding": null,
            "right": null,
            "top": null,
            "visibility": null,
            "width": null
          }
        },
        "7fb37f1c88e9416cb941031c3ef6e3b8": {
          "model_module": "@jupyter-widgets/controls",
          "model_name": "DescriptionStyleModel",
          "model_module_version": "1.5.0",
          "state": {
            "_model_module": "@jupyter-widgets/controls",
            "_model_module_version": "1.5.0",
            "_model_name": "DescriptionStyleModel",
            "_view_count": null,
            "_view_module": "@jupyter-widgets/base",
            "_view_module_version": "1.2.0",
            "_view_name": "StyleView",
            "description_width": ""
          }
        }
      }
    }
  },
  "cells": [
    {
      "cell_type": "code",
      "execution_count": null,
      "metadata": {
        "colab": {
          "base_uri": "https://localhost:8080/"
        },
        "id": "yCCoM4V2H8Lg",
        "outputId": "b4727c35-8491-4cb0-8db2-9c0b3b3d7cc8"
      },
      "outputs": [
        {
          "output_type": "stream",
          "name": "stdout",
          "text": [
            "Mounted at /content/drive\n",
            "✅ /content/drive/MyDrive/yenidataset_split.zip içeriği /content/yenidataset_split3 klasörüne çıkarıldı.\n"
          ]
        }
      ],
      "source": [
        "from google.colab import drive\n",
        "drive.mount('/content/drive')\n",
        "\n",
        "zip_path = \"/content/drive/MyDrive/yenidataset_split.zip\"\n",
        "\n",
        "dest_dir = \"/content/yenidataset_split3\"\n",
        "\n",
        "import zipfile\n",
        "with zipfile.ZipFile(zip_path, 'r') as zip_ref:\n",
        "    zip_ref.extractall(dest_dir)\n",
        "\n",
        "print(f\"✅ {zip_path} içeriği {dest_dir} klasörüne çıkarıldı.\")\n"
      ]
    },
    {
      "cell_type": "code",
      "source": [
        "import os\n",
        "import time\n",
        "import random\n",
        "import numpy as np\n",
        "import torch\n",
        "import torch.nn as nn\n",
        "import timm\n",
        "\n",
        "from torchvision import transforms\n",
        "from torchvision.datasets import ImageFolder\n",
        "from torch.utils.data import DataLoader\n",
        "from sklearn.metrics import (\n",
        "    accuracy_score, precision_score, recall_score, f1_score,\n",
        "    roc_auc_score, confusion_matrix, roc_curve, auc\n",
        ")\n",
        "import matplotlib.pyplot as plt\n",
        "import seaborn as sns\n",
        "from tqdm import tqdm"
      ],
      "metadata": {
        "id": "F1sJdTQGIg0d"
      },
      "execution_count": null,
      "outputs": []
    },
    {
      "cell_type": "code",
      "source": [
        "# ─── 1️⃣ CONFIG ────────────────────────────────────────────────────────────────\n",
        "EPOCHS       = 30\n",
        "BATCH_SIZE   = 32\n",
        "IMG_SIZE     = 224\n",
        "NUM_CLASSES  = 5\n",
        "DATA_PATH    = \"/content/yenidataset_split3/yenidataset_split\"\n",
        "DEVICE       = torch.device(\"cuda\" if torch.cuda.is_available() else \"cpu\")\n",
        "SEED         = 42\n",
        "LR           = 1e-5\n",
        "WEIGHT_DECAY = 2e-2\n",
        "\n",
        "torch.manual_seed(SEED)\n",
        "np.random.seed(SEED)\n",
        "random.seed(SEED)\n",
        "if DEVICE.type == 'cuda':\n",
        "    torch.cuda.manual_seed(SEED)"
      ],
      "metadata": {
        "id": "4vfyoyQpIg2w"
      },
      "execution_count": null,
      "outputs": []
    },
    {
      "cell_type": "code",
      "source": [
        "# ─── 2️⃣ TRANSFORMS ─────────────────────────────────────────────────────────────\n",
        "mean, std = [0.485, 0.456, 0.406], [0.229, 0.224, 0.225]\n",
        "\n",
        "train_transform = transforms.Compose([\n",
        "    transforms.RandomResizedCrop(IMG_SIZE, scale=(0.7, 1.0)),\n",
        "    transforms.RandomHorizontalFlip(),\n",
        "    transforms.RandomRotation(30),\n",
        "    transforms.ColorJitter(0.3, 0.3, 0.3, 0.2),\n",
        "    transforms.RandomPerspective(distortion_scale=0.4, p=0.5),\n",
        "    transforms.RandomAffine(degrees=20, translate=(0.1, 0.1)),\n",
        "    transforms.ToTensor(),\n",
        "    transforms.Normalize(mean, std)\n",
        "])\n",
        "\n",
        "val_transform = transforms.Compose([\n",
        "    transforms.Resize((IMG_SIZE, IMG_SIZE)),\n",
        "    transforms.ToTensor(),\n",
        "    transforms.Normalize(mean, std)\n",
        "])\n",
        "\n",
        "test_transform = val_transform\n"
      ],
      "metadata": {
        "id": "tckz6ZEJIg5O"
      },
      "execution_count": null,
      "outputs": []
    },
    {
      "cell_type": "code",
      "source": [
        "# ─── 3️⃣ DATASETS & DATALOADERS ───────────────────────────────────────────────\n",
        "train_ds = ImageFolder(os.path.join(DATA_PATH, \"train\"), transform=train_transform)\n",
        "val_ds   = ImageFolder(os.path.join(DATA_PATH, \"val\"),   transform=val_transform)\n",
        "test_ds  = ImageFolder(os.path.join(DATA_PATH, \"test\"),  transform=test_transform)\n",
        "\n",
        "train_loader = DataLoader(train_ds, batch_size=BATCH_SIZE, shuffle=True, num_workers=2, pin_memory=True)\n",
        "val_loader   = DataLoader(val_ds,   batch_size=BATCH_SIZE, shuffle=False, num_workers=2, pin_memory=True)\n",
        "test_loader  = DataLoader(test_ds,  batch_size=BATCH_SIZE, shuffle=False, num_workers=2, pin_memory=True)"
      ],
      "metadata": {
        "id": "_QsDNFZGIg7p"
      },
      "execution_count": null,
      "outputs": []
    },
    {
      "cell_type": "code",
      "source": [
        "# ─── 4️⃣ MODEL, LOSS, OPTIMIZER & SCHEDULER ─────────────────────────────────────\n",
        "model = timm.create_model(\n",
        "    'deit_base_patch16_224',\n",
        "    pretrained=True,\n",
        "    num_classes=NUM_CLASSES,\n",
        "    drop_rate=0.5,\n",
        "    drop_path_rate=0.2\n",
        ").to(DEVICE)\n",
        "\n",
        "criterion = nn.CrossEntropyLoss()\n",
        "optimizer = torch.optim.AdamW(model.parameters(), lr=LR, weight_decay=WEIGHT_DECAY)\n",
        "scheduler = torch.optim.lr_scheduler.CosineAnnealingLR(optimizer, T_max=EPOCHS)\n",
        "\n",
        "# ✅ Mixup Function\n",
        "def mixup_data(x, y, alpha=0.4):\n",
        "    lam = np.random.beta(alpha, alpha)\n",
        "    batch_size = x.size()[0]\n",
        "    index = torch.randperm(batch_size).to(DEVICE)\n",
        "    mixed_x = lam * x + (1 - lam) * x[index, :]\n",
        "    y_a, y_b = y, y[index]\n",
        "    return mixed_x, y_a, y_b, lam\n"
      ],
      "metadata": {
        "colab": {
          "base_uri": "https://localhost:8080/",
          "height": 171,
          "referenced_widgets": [
            "03f20eeacaf5401c92199cbfcfb487b2",
            "5c667dc3ed9c41b9bcab356217730833",
            "bfe7ba7b8ae6436cad5ee5c6a8c162fb",
            "4f287a1e7a374668ba39c6e4ecd3144c",
            "f64940b04c984b7caabe28594a5b7b7f",
            "a5ed47ebfe384f4b895179ba984684f0",
            "1a931e2e96b44e2694ab199d581de54f",
            "8de7601b68554f20a7c764fe219a6898",
            "cc2a0e8b33c440f4983f6bd4aaca222b",
            "609093f463324658bcf68d74777578fc",
            "7fb37f1c88e9416cb941031c3ef6e3b8"
          ]
        },
        "id": "msHT-Z2jIg-X",
        "outputId": "f011a6da-2d9e-47e5-c3da-231065bb55cb"
      },
      "execution_count": null,
      "outputs": [
        {
          "output_type": "stream",
          "name": "stderr",
          "text": [
            "/usr/local/lib/python3.11/dist-packages/huggingface_hub/utils/_auth.py:94: UserWarning: \n",
            "The secret `HF_TOKEN` does not exist in your Colab secrets.\n",
            "To authenticate with the Hugging Face Hub, create a token in your settings tab (https://huggingface.co/settings/tokens), set it as secret in your Google Colab and restart your session.\n",
            "You will be able to reuse this secret in all of your notebooks.\n",
            "Please note that authentication is recommended but still optional to access public models or datasets.\n",
            "  warnings.warn(\n"
          ]
        },
        {
          "output_type": "display_data",
          "data": {
            "text/plain": [
              "model.safetensors:   0%|          | 0.00/346M [00:00<?, ?B/s]"
            ],
            "application/vnd.jupyter.widget-view+json": {
              "version_major": 2,
              "version_minor": 0,
              "model_id": "03f20eeacaf5401c92199cbfcfb487b2"
            }
          },
          "metadata": {}
        }
      ]
    },
    {
      "cell_type": "code",
      "source": [
        "# ─── 5️⃣ TRAINING ──────────────────────────────────────────────────────────────\n",
        "train_losses, val_losses = [], []\n",
        "t0 = time.time()\n",
        "\n",
        "for epoch in range(1, EPOCHS+1):\n",
        "    t_epoch = time.time()\n",
        "    model.train()\n",
        "    run_train = 0.0\n",
        "\n",
        "    for imgs, lbls in tqdm(train_loader, desc=f\"Train {epoch}/{EPOCHS}\", leave=False):\n",
        "        imgs, lbls = imgs.to(DEVICE), lbls.to(DEVICE)\n",
        "        inputs, targets_a, targets_b, lam = mixup_data(imgs, lbls)\n",
        "        optimizer.zero_grad()\n",
        "        out = model(inputs)\n",
        "        loss = lam * criterion(out, targets_a) + (1 - lam) * criterion(out, targets_b)\n",
        "        loss.backward()\n",
        "        optimizer.step()\n",
        "        run_train += loss.item()\n",
        "\n",
        "    train_loss = run_train / len(train_loader)\n",
        "    train_losses.append(train_loss)\n",
        "\n",
        "    model.eval()\n",
        "    run_val = 0.0\n",
        "    with torch.no_grad():\n",
        "        for imgs, lbls in val_loader:\n",
        "            imgs, lbls = imgs.to(DEVICE), lbls.to(DEVICE)\n",
        "            out = model(imgs)\n",
        "            val_loss_batch = criterion(out, lbls)\n",
        "            run_val += val_loss_batch.item()\n",
        "    val_loss = run_val / len(val_loader)\n",
        "    val_losses.append(val_loss)\n",
        "\n",
        "    scheduler.step()\n",
        "    print(f\"Epoch {epoch}/{EPOCHS} — {(time.time()-t_epoch):.1f}s | Train: {train_loss:.4f} | Val: {val_loss:.4f}\")\n",
        "\n",
        "torch.save(model.state_dict(), \"final_deit_model.pth\")\n",
        "print(f\"\\n🏁 Training completed in {(time.time()-t0)/60:.1f}m\")"
      ],
      "metadata": {
        "colab": {
          "base_uri": "https://localhost:8080/"
        },
        "id": "hgx-jMXhIhA8",
        "outputId": "fcde4a48-c1e1-4cd1-f369-25975df3603b"
      },
      "execution_count": null,
      "outputs": [
        {
          "output_type": "stream",
          "name": "stderr",
          "text": []
        },
        {
          "output_type": "stream",
          "name": "stdout",
          "text": [
            "Epoch 1/30 — 114.0s | Train: 1.5114 | Val: 1.2565\n"
          ]
        },
        {
          "output_type": "stream",
          "name": "stderr",
          "text": []
        },
        {
          "output_type": "stream",
          "name": "stdout",
          "text": [
            "Epoch 2/30 — 112.3s | Train: 1.3727 | Val: 1.1778\n"
          ]
        },
        {
          "output_type": "stream",
          "name": "stderr",
          "text": []
        },
        {
          "output_type": "stream",
          "name": "stdout",
          "text": [
            "Epoch 3/30 — 112.6s | Train: 1.3152 | Val: 1.1346\n"
          ]
        },
        {
          "output_type": "stream",
          "name": "stderr",
          "text": []
        },
        {
          "output_type": "stream",
          "name": "stdout",
          "text": [
            "Epoch 4/30 — 112.5s | Train: 1.2975 | Val: 1.1316\n"
          ]
        },
        {
          "output_type": "stream",
          "name": "stderr",
          "text": []
        },
        {
          "output_type": "stream",
          "name": "stdout",
          "text": [
            "Epoch 5/30 — 112.3s | Train: 1.2702 | Val: 1.1034\n"
          ]
        },
        {
          "output_type": "stream",
          "name": "stderr",
          "text": []
        },
        {
          "output_type": "stream",
          "name": "stdout",
          "text": [
            "Epoch 6/30 — 112.3s | Train: 1.2520 | Val: 1.0998\n"
          ]
        },
        {
          "output_type": "stream",
          "name": "stderr",
          "text": []
        },
        {
          "output_type": "stream",
          "name": "stdout",
          "text": [
            "Epoch 7/30 — 112.3s | Train: 1.2424 | Val: 1.0789\n"
          ]
        },
        {
          "output_type": "stream",
          "name": "stderr",
          "text": []
        },
        {
          "output_type": "stream",
          "name": "stdout",
          "text": [
            "Epoch 8/30 — 112.4s | Train: 1.2405 | Val: 1.0829\n"
          ]
        },
        {
          "output_type": "stream",
          "name": "stderr",
          "text": []
        },
        {
          "output_type": "stream",
          "name": "stdout",
          "text": [
            "Epoch 9/30 — 112.4s | Train: 1.2363 | Val: 1.0779\n"
          ]
        },
        {
          "output_type": "stream",
          "name": "stderr",
          "text": []
        },
        {
          "output_type": "stream",
          "name": "stdout",
          "text": [
            "Epoch 10/30 — 112.3s | Train: 1.2194 | Val: 1.0617\n"
          ]
        },
        {
          "output_type": "stream",
          "name": "stderr",
          "text": []
        },
        {
          "output_type": "stream",
          "name": "stdout",
          "text": [
            "Epoch 11/30 — 112.2s | Train: 1.2033 | Val: 1.0803\n"
          ]
        },
        {
          "output_type": "stream",
          "name": "stderr",
          "text": []
        },
        {
          "output_type": "stream",
          "name": "stdout",
          "text": [
            "Epoch 12/30 — 112.3s | Train: 1.2069 | Val: 1.0748\n"
          ]
        },
        {
          "output_type": "stream",
          "name": "stderr",
          "text": []
        },
        {
          "output_type": "stream",
          "name": "stdout",
          "text": [
            "Epoch 13/30 — 112.4s | Train: 1.1931 | Val: 1.0807\n"
          ]
        },
        {
          "output_type": "stream",
          "name": "stderr",
          "text": []
        },
        {
          "output_type": "stream",
          "name": "stdout",
          "text": [
            "Epoch 14/30 — 112.5s | Train: 1.1754 | Val: 1.0637\n"
          ]
        },
        {
          "output_type": "stream",
          "name": "stderr",
          "text": []
        },
        {
          "output_type": "stream",
          "name": "stdout",
          "text": [
            "Epoch 15/30 — 112.5s | Train: 1.1911 | Val: 1.0756\n"
          ]
        },
        {
          "output_type": "stream",
          "name": "stderr",
          "text": []
        },
        {
          "output_type": "stream",
          "name": "stdout",
          "text": [
            "Epoch 16/30 — 112.8s | Train: 1.1869 | Val: 1.0599\n"
          ]
        },
        {
          "output_type": "stream",
          "name": "stderr",
          "text": []
        },
        {
          "output_type": "stream",
          "name": "stdout",
          "text": [
            "Epoch 17/30 — 112.4s | Train: 1.1783 | Val: 1.0547\n"
          ]
        },
        {
          "output_type": "stream",
          "name": "stderr",
          "text": []
        },
        {
          "output_type": "stream",
          "name": "stdout",
          "text": [
            "Epoch 18/30 — 112.3s | Train: 1.1702 | Val: 1.0566\n"
          ]
        },
        {
          "output_type": "stream",
          "name": "stderr",
          "text": []
        },
        {
          "output_type": "stream",
          "name": "stdout",
          "text": [
            "Epoch 19/30 — 112.5s | Train: 1.1579 | Val: 1.0661\n"
          ]
        },
        {
          "output_type": "stream",
          "name": "stderr",
          "text": []
        },
        {
          "output_type": "stream",
          "name": "stdout",
          "text": [
            "Epoch 20/30 — 113.2s | Train: 1.1667 | Val: 1.0668\n"
          ]
        },
        {
          "output_type": "stream",
          "name": "stderr",
          "text": []
        },
        {
          "output_type": "stream",
          "name": "stdout",
          "text": [
            "Epoch 21/30 — 112.4s | Train: 1.1569 | Val: 1.0642\n"
          ]
        },
        {
          "output_type": "stream",
          "name": "stderr",
          "text": []
        },
        {
          "output_type": "stream",
          "name": "stdout",
          "text": [
            "Epoch 22/30 — 112.5s | Train: 1.1585 | Val: 1.0567\n"
          ]
        },
        {
          "output_type": "stream",
          "name": "stderr",
          "text": []
        },
        {
          "output_type": "stream",
          "name": "stdout",
          "text": [
            "Epoch 23/30 — 112.4s | Train: 1.1569 | Val: 1.0590\n"
          ]
        },
        {
          "output_type": "stream",
          "name": "stderr",
          "text": []
        },
        {
          "output_type": "stream",
          "name": "stdout",
          "text": [
            "Epoch 24/30 — 112.3s | Train: 1.1484 | Val: 1.0592\n"
          ]
        },
        {
          "output_type": "stream",
          "name": "stderr",
          "text": []
        },
        {
          "output_type": "stream",
          "name": "stdout",
          "text": [
            "Epoch 25/30 — 112.6s | Train: 1.1463 | Val: 1.0630\n"
          ]
        },
        {
          "output_type": "stream",
          "name": "stderr",
          "text": []
        },
        {
          "output_type": "stream",
          "name": "stdout",
          "text": [
            "Epoch 26/30 — 112.5s | Train: 1.1629 | Val: 1.0591\n"
          ]
        },
        {
          "output_type": "stream",
          "name": "stderr",
          "text": []
        },
        {
          "output_type": "stream",
          "name": "stdout",
          "text": [
            "Epoch 27/30 — 112.2s | Train: 1.1389 | Val: 1.0625\n"
          ]
        },
        {
          "output_type": "stream",
          "name": "stderr",
          "text": []
        },
        {
          "output_type": "stream",
          "name": "stdout",
          "text": [
            "Epoch 28/30 — 112.4s | Train: 1.1421 | Val: 1.0632\n"
          ]
        },
        {
          "output_type": "stream",
          "name": "stderr",
          "text": []
        },
        {
          "output_type": "stream",
          "name": "stdout",
          "text": [
            "Epoch 29/30 — 112.4s | Train: 1.1482 | Val: 1.0629\n"
          ]
        },
        {
          "output_type": "stream",
          "name": "stderr",
          "text": []
        },
        {
          "output_type": "stream",
          "name": "stdout",
          "text": [
            "Epoch 30/30 — 113.1s | Train: 1.1538 | Val: 1.0629\n",
            "\n",
            "🏁 Training completed in 56.3m\n"
          ]
        }
      ]
    },
    {
      "cell_type": "code",
      "source": [
        "# ─── 6️⃣ TEST & METRICS ────────────────────────────────────────────────────────\n",
        "model.load_state_dict(torch.load(\"final_deit_model.pth\"))\n",
        "model.eval()\n",
        "all_labels, all_preds, all_probs = [], [], []\n",
        "t_inf = time.time()\n",
        "\n",
        "with torch.no_grad():\n",
        "    for imgs, lbls in tqdm(test_loader, desc=\"Test Inference\"):\n",
        "        imgs = imgs.to(DEVICE)\n",
        "        out  = model(imgs)\n",
        "        probs = torch.softmax(out, dim=1).cpu().numpy()\n",
        "        preds = np.argmax(probs, axis=1)\n",
        "        all_probs.extend(probs)\n",
        "        all_preds.extend(preds)\n",
        "        all_labels.extend(lbls.numpy())\n",
        "inf_time = time.time() - t_inf\n",
        "\n",
        "# ─── 7️⃣ METRICS ───────────────────────────────────────────────────────────────\n",
        "all_labels = np.array(all_labels)\n",
        "all_preds  = np.array(all_preds)\n",
        "all_probs  = np.array(all_probs)\n",
        "\n",
        "conf = confusion_matrix(all_labels, all_preds)\n",
        "acc   = accuracy_score(all_labels, all_preds)\n",
        "prec  = precision_score(all_labels, all_preds, average='macro')\n",
        "rec   = recall_score(all_labels, all_preds, average='macro')\n",
        "f1    = f1_score(all_labels, all_preds, average='macro')\n",
        "auc_m = roc_auc_score(all_labels, all_probs, multi_class='ovr', average='micro')\n",
        "auc_M = roc_auc_score(all_labels, all_probs, multi_class='ovr', average='macro')\n",
        "\n",
        "specs = []\n",
        "for i in range(NUM_CLASSES):\n",
        "    TP = conf[i,i]\n",
        "    FN = conf[i,:].sum() - TP\n",
        "    FP = conf[:,i].sum() - TP\n",
        "    TN = conf.sum() - TP - FN - FP\n",
        "    specs.append(TN / (TN + FP))\n",
        "spec_macro = np.mean(specs)\n",
        "\n",
        "print(f\"\\nFinal Test Metrics:\")\n",
        "print(f\" • Accuracy       : {acc:.4f}\")\n",
        "print(f\" • Precision (M)  : {prec:.4f}\")\n",
        "print(f\" • Recall    (M)  : {rec:.4f}\")\n",
        "print(f\" • F1-Score  (M)  : {f1:.4f}\")\n",
        "print(f\" • AUC-micro      : {auc_m:.4f}\")\n",
        "print(f\" • AUC-macro      : {auc_M:.4f}\")\n",
        "print(f\" • Sensitivity (M): {rec:.4f}\")\n",
        "print(f\" • Specificity (M): {spec_macro:.4f}\")\n",
        "print(f\" • Train Time     : {(time.time()-t0):.1f}s\")\n",
        "print(f\" • Inference Time : {inf_time:.1f}s\")\n",
        "\n",
        "# ─── 8️⃣ PLOTS ───────────────────────────────────────────────────────────────\n",
        "plt.figure(figsize=(7,6))\n",
        "sns.heatmap(conf, annot=True, fmt='d', cmap='Blues',\n",
        "            xticklabels=test_ds.classes, yticklabels=test_ds.classes)\n",
        "plt.title(\"Confusion Matrix\"); plt.xlabel(\"Predicted\"); plt.ylabel(\"Actual\"); plt.show()\n",
        "\n",
        "plt.figure(figsize=(8,6))\n",
        "fpr, tpr, roc_auc = {}, {}, {}\n",
        "for i, cls in enumerate(test_ds.classes):\n",
        "    fpr[i], tpr[i], _ = roc_curve((all_labels==i).astype(int), all_probs[:,i])\n",
        "    roc_auc[i] = auc(fpr[i], tpr[i])\n",
        "    plt.plot(fpr[i], tpr[i], label=f\"{cls} (AUC={roc_auc[i]:.2f})\")\n",
        "plt.plot([0,1],[0,1],'k--'); plt.title(\"ROC Curves\"); plt.xlabel(\"FPR\"); plt.ylabel(\"TPR\"); plt.legend(); plt.show()\n",
        "\n",
        "plt.figure(figsize=(8,5))\n",
        "plt.plot(range(1, len(train_losses)+1), train_losses, label='Train Loss')\n",
        "plt.plot(range(1, len(val_losses)+1),   val_losses,   label='Val Loss')\n",
        "plt.title(\"Epoch vs Loss\"); plt.xlabel(\"Epoch\"); plt.ylabel(\"Loss\"); plt.legend(); plt.show()"
      ],
      "metadata": {
        "colab": {
          "base_uri": "https://localhost:8080/",
          "height": 1000
        },
        "id": "r2u6oSWAIhDq",
        "outputId": "91546fe5-2c6d-4cb8-ff9d-e1c4502a4628"
      },
      "execution_count": null,
      "outputs": [
        {
          "output_type": "stream",
          "name": "stderr",
          "text": [
            "Test Inference: 100%|██████████| 62/62 [00:07<00:00,  8.67it/s]\n"
          ]
        },
        {
          "output_type": "stream",
          "name": "stdout",
          "text": [
            "\n",
            "Final Test Metrics:\n",
            " • Accuracy       : 0.6066\n",
            " • Precision (M)  : 0.6061\n",
            " • Recall    (M)  : 0.6077\n",
            " • F1-Score  (M)  : 0.6049\n",
            " • AUC-micro      : 0.8728\n",
            " • AUC-macro      : 0.8661\n",
            " • Sensitivity (M): 0.6077\n",
            " • Specificity (M): 0.9016\n",
            " • Train Time     : 3392.9s\n",
            " • Inference Time : 7.1s\n"
          ]
        },
        {
          "output_type": "display_data",
          "data": {
            "text/plain": [
              "<Figure size 700x600 with 2 Axes>"
            ],
            "image/png": "[encoded data removed]"
          },
          "metadata": {}
        },
        {
          "output_type": "display_data",
          "data": {
            "text/plain": [
              "<Figure size 800x600 with 1 Axes>"
            ],
            "image/png": "[encoded data removed]"
          },
          "metadata": {}
        },
        {
          "output_type": "display_data",
          "data": {
            "text/plain": [
              "<Figure size 800x500 with 1 Axes>"
            ],
            "image/png": "[encoded data removed]"
          },
          "metadata": {}
        }
      ]
    },
    {
      "cell_type": "code",
      "source": [],
      "metadata": {
        "id": "yYZ8-gIbIhGL"
      },
      "execution_count": null,
      "outputs": []
    },
    {
      "cell_type": "code",
      "source": [],
      "metadata": {
        "id": "NrzI0ecsIhIn"
      },
      "execution_count": null,
      "outputs": []
    },
    {
      "cell_type": "code",
      "source": [],
      "metadata": {
        "id": "4HbiUEyTIhLZ"
      },
      "execution_count": null,
      "outputs": []
    },
    {
      "cell_type": "code",
      "source": [],
      "metadata": {
        "id": "dhXlEwtpIhOT"
      },
      "execution_count": null,
      "outputs": []
    },
    {
      "cell_type": "code",
      "source": [],
      "metadata": {
        "id": "q3i74xs6IhQK"
      },
      "execution_count": null,
      "outputs": []
    },
    {
      "cell_type": "code",
      "source": [],
      "metadata": {
        "id": "a4qW2aWUIhsX"
      },
      "execution_count": null,
      "outputs": []
    }
  ]
}