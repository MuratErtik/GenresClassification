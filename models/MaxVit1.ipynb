{
  "nbformat": 4,
  "nbformat_minor": 0,
  "metadata": {
    "colab": {
      "provenance": [],
      "machine_shape": "hm",
      "gpuType": "A100"
    },
    "kernelspec": {
      "name": "python3",
      "display_name": "Python 3"
    },
    "language_info": {
      "name": "python"
    },
    "accelerator": "GPU",
    "widgets": {
      "application/vnd.jupyter.widget-state+json": {
        "872435497bed4a8c8927f9a1cfdf0825": {
          "model_module": "@jupyter-widgets/controls",
          "model_name": "HBoxModel",
          "model_module_version": "1.5.0",
          "state": {
            "_dom_classes": [],
            "_model_module": "@jupyter-widgets/controls",
            "_model_module_version": "1.5.0",
            "_model_name": "HBoxModel",
            "_view_count": null,
            "_view_module": "@jupyter-widgets/controls",
            "_view_module_version": "1.5.0",
            "_view_name": "HBoxView",
            "box_style": "",
            "children": [
              "IPY_MODEL_aa309e7887d74176af292440d2ab830f",
              "IPY_MODEL_bcb73c722ba84d499ad7e66d36f132fe",
              "IPY_MODEL_6b17507f6d33457bb02be190245051c6"
            ],
            "layout": "IPY_MODEL_153babb99d8e441b9c0f958c18d6749c"
          }
        },
        "aa309e7887d74176af292440d2ab830f": {
          "model_module": "@jupyter-widgets/controls",
          "model_name": "HTMLModel",
          "model_module_version": "1.5.0",
          "state": {
            "_dom_classes": [],
            "_model_module": "@jupyter-widgets/controls",
            "_model_module_version": "1.5.0",
            "_model_name": "HTMLModel",
            "_view_count": null,
            "_view_module": "@jupyter-widgets/controls",
            "_view_module_version": "1.5.0",
            "_view_name": "HTMLView",
            "description": "",
            "description_tooltip": null,
            "layout": "IPY_MODEL_d97e556ca8364e48b1a512709e7048de",
            "placeholder": "​",
            "style": "IPY_MODEL_b34e6639a0ec4a91b23c140fb21f8974",
            "value": "model.safetensors: 100%"
          }
        },
        "bcb73c722ba84d499ad7e66d36f132fe": {
          "model_module": "@jupyter-widgets/controls",
          "model_name": "FloatProgressModel",
          "model_module_version": "1.5.0",
          "state": {
            "_dom_classes": [],
            "_model_module": "@jupyter-widgets/controls",
            "_model_module_version": "1.5.0",
            "_model_name": "FloatProgressModel",
            "_view_count": null,
            "_view_module": "@jupyter-widgets/controls",
            "_view_module_version": "1.5.0",
            "_view_name": "ProgressView",
            "bar_style": "success",
            "description": "",
            "description_tooltip": null,
            "layout": "IPY_MODEL_d917f8723d114619ab597fc7b73642ba",
            "max": 123917994,
            "min": 0,
            "orientation": "horizontal",
            "style": "IPY_MODEL_295f873906c14afc90dcc58b5cc0415d",
            "value": 123917994
          }
        },
        "6b17507f6d33457bb02be190245051c6": {
          "model_module": "@jupyter-widgets/controls",
          "model_name": "HTMLModel",
          "model_module_version": "1.5.0",
          "state": {
            "_dom_classes": [],
            "_model_module": "@jupyter-widgets/controls",
            "_model_module_version": "1.5.0",
            "_model_name": "HTMLModel",
            "_view_count": null,
            "_view_module": "@jupyter-widgets/controls",
            "_view_module_version": "1.5.0",
            "_view_name": "HTMLView",
            "description": "",
            "description_tooltip": null,
            "layout": "IPY_MODEL_d3ff04d83d7b4ad0a69c3e18e639998a",
            "placeholder": "​",
            "style": "IPY_MODEL_eaaf9a678eb14274904f84e298fef934",
            "value": " 124M/124M [00:00&lt;00:00, 222MB/s]"
          }
        },
        "153babb99d8e441b9c0f958c18d6749c": {
          "model_module": "@jupyter-widgets/base",
          "model_name": "LayoutModel",
          "model_module_version": "1.2.0",
          "state": {
            "_model_module": "@jupyter-widgets/base",
            "_model_module_version": "1.2.0",
            "_model_name": "LayoutModel",
            "_view_count": null,
            "_view_module": "@jupyter-widgets/base",
            "_view_module_version": "1.2.0",
            "_view_name": "LayoutView",
            "align_content": null,
            "align_items": null,
            "align_self": null,
            "border": null,
            "bottom": null,
            "display": null,
            "flex": null,
            "flex_flow": null,
            "grid_area": null,
            "grid_auto_columns": null,
            "grid_auto_flow": null,
            "grid_auto_rows": null,
            "grid_column": null,
            "grid_gap": null,
            "grid_row": null,
            "grid_template_areas": null,
            "grid_template_columns": null,
            "grid_template_rows": null,
            "height": null,
            "justify_content": null,
            "justify_items": null,
            "left": null,
            "margin": null,
            "max_height": null,
            "max_width": null,
            "min_height": null,
            "min_width": null,
            "object_fit": null,
            "object_position": null,
            "order": null,
            "overflow": null,
            "overflow_x": null,
            "overflow_y": null,
            "padding": null,
            "right": null,
            "top": null,
            "visibility": null,
            "width": null
          }
        },
        "d97e556ca8364e48b1a512709e7048de": {
          "model_module": "@jupyter-widgets/base",
          "model_name": "LayoutModel",
          "model_module_version": "1.2.0",
          "state": {
            "_model_module": "@jupyter-widgets/base",
            "_model_module_version": "1.2.0",
            "_model_name": "LayoutModel",
            "_view_count": null,
            "_view_module": "@jupyter-widgets/base",
            "_view_module_version": "1.2.0",
            "_view_name": "LayoutView",
            "align_content": null,
            "align_items": null,
            "align_self": null,
            "border": null,
            "bottom": null,
            "display": null,
            "flex": null,
            "flex_flow": null,
            "grid_area": null,
            "grid_auto_columns": null,
            "grid_auto_flow": null,
            "grid_auto_rows": null,
            "grid_column": null,
            "grid_gap": null,
            "grid_row": null,
            "grid_template_areas": null,
            "grid_template_columns": null,
            "grid_template_rows": null,
            "height": null,
            "justify_content": null,
            "justify_items": null,
            "left": null,
            "margin": null,
            "max_height": null,
            "max_width": null,
            "min_height": null,
            "min_width": null,
            "object_fit": null,
            "object_position": null,
            "order": null,
            "overflow": null,
            "overflow_x": null,
            "overflow_y": null,
            "padding": null,
            "right": null,
            "top": null,
            "visibility": null,
            "width": null
          }
        },
        "b34e6639a0ec4a91b23c140fb21f8974": {
          "model_module": "@jupyter-widgets/controls",
          "model_name": "DescriptionStyleModel",
          "model_module_version": "1.5.0",
          "state": {
            "_model_module": "@jupyter-widgets/controls",
            "_model_module_version": "1.5.0",
            "_model_name": "DescriptionStyleModel",
            "_view_count": null,
            "_view_module": "@jupyter-widgets/base",
            "_view_module_version": "1.2.0",
            "_view_name": "StyleView",
            "description_width": ""
          }
        },
        "d917f8723d114619ab597fc7b73642ba": {
          "model_module": "@jupyter-widgets/base",
          "model_name": "LayoutModel",
          "model_module_version": "1.2.0",
          "state": {
            "_model_module": "@jupyter-widgets/base",
            "_model_module_version": "1.2.0",
            "_model_name": "LayoutModel",
            "_view_count": null,
            "_view_module": "@jupyter-widgets/base",
            "_view_module_version": "1.2.0",
            "_view_name": "LayoutView",
            "align_content": null,
            "align_items": null,
            "align_self": null,
            "border": null,
            "bottom": null,
            "display": null,
            "flex": null,
            "flex_flow": null,
            "grid_area": null,
            "grid_auto_columns": null,
            "grid_auto_flow": null,
            "grid_auto_rows": null,
            "grid_column": null,
            "grid_gap": null,
            "grid_row": null,
            "grid_template_areas": null,
            "grid_template_columns": null,
            "grid_template_rows": null,
            "height": null,
            "justify_content": null,
            "justify_items": null,
            "left": null,
            "margin": null,
            "max_height": null,
            "max_width": null,
            "min_height": null,
            "min_width": null,
            "object_fit": null,
            "object_position": null,
            "order": null,
            "overflow": null,
            "overflow_x": null,
            "overflow_y": null,
            "padding": null,
            "right": null,
            "top": null,
            "visibility": null,
            "width": null
          }
        },
        "295f873906c14afc90dcc58b5cc0415d": {
          "model_module": "@jupyter-widgets/controls",
          "model_name": "ProgressStyleModel",
          "model_module_version": "1.5.0",
          "state": {
            "_model_module": "@jupyter-widgets/controls",
            "_model_module_version": "1.5.0",
            "_model_name": "ProgressStyleModel",
            "_view_count": null,
            "_view_module": "@jupyter-widgets/base",
            "_view_module_version": "1.2.0",
            "_view_name": "StyleView",
            "bar_color": null,
            "description_width": ""
          }
        },
        "d3ff04d83d7b4ad0a69c3e18e639998a": {
          "model_module": "@jupyter-widgets/base",
          "model_name": "LayoutModel",
          "model_module_version": "1.2.0",
          "state": {
            "_model_module": "@jupyter-widgets/base",
            "_model_module_version": "1.2.0",
            "_model_name": "LayoutModel",
            "_view_count": null,
            "_view_module": "@jupyter-widgets/base",
            "_view_module_version": "1.2.0",
            "_view_name": "LayoutView",
            "align_content": null,
            "align_items": null,
            "align_self": null,
            "border": null,
            "bottom": null,
            "display": null,
            "flex": null,
            "flex_flow": null,
            "grid_area": null,
            "grid_auto_columns": null,
            "grid_auto_flow": null,
            "grid_auto_rows": null,
            "grid_column": null,
            "grid_gap": null,
            "grid_row": null,
            "grid_template_areas": null,
            "grid_template_columns": null,
            "grid_template_rows": null,
            "height": null,
            "justify_content": null,
            "justify_items": null,
            "left": null,
            "margin": null,
            "max_height": null,
            "max_width": null,
            "min_height": null,
            "min_width": null,
            "object_fit": null,
            "object_position": null,
            "order": null,
            "overflow": null,
            "overflow_x": null,
            "overflow_y": null,
            "padding": null,
            "right": null,
            "top": null,
            "visibility": null,
            "width": null
          }
        },
        "eaaf9a678eb14274904f84e298fef934": {
          "model_module": "@jupyter-widgets/controls",
          "model_name": "DescriptionStyleModel",
          "model_module_version": "1.5.0",
          "state": {
            "_model_module": "@jupyter-widgets/controls",
            "_model_module_version": "1.5.0",
            "_model_name": "DescriptionStyleModel",
            "_view_count": null,
            "_view_module": "@jupyter-widgets/base",
            "_view_module_version": "1.2.0",
            "_view_name": "StyleView",
            "description_width": ""
          }
        }
      }
    }
  },
  "cells": [
    {
      "cell_type": "code",
      "execution_count": null,
      "metadata": {
        "id": "DcppKoxtZOAU",
        "colab": {
          "base_uri": "https://localhost:8080/"
        },
        "outputId": "a9ac32fe-3788-4480-a95b-84cb100665e8"
      },
      "outputs": [
        {
          "output_type": "stream",
          "name": "stdout",
          "text": [
            "Drive already mounted at /content/drive; to attempt to forcibly remount, call drive.mount(\"/content/drive\", force_remount=True).\n",
            "✅ /content/drive/MyDrive/yenidataset_split.zip içeriği /content/yenidataset_split3 klasörüne çıkarıldı.\n"
          ]
        }
      ],
      "source": [
        "from google.colab import drive\n",
        "drive.mount('/content/drive')\n",
        "\n",
        "zip_path = \"/content/drive/MyDrive/yenidataset_split.zip\"\n",
        "\n",
        "dest_dir = \"/content/yenidataset_split3\"\n",
        "\n",
        "import zipfile\n",
        "with zipfile.ZipFile(zip_path, 'r') as zip_ref:\n",
        "    zip_ref.extractall(dest_dir)\n",
        "\n",
        "print(f\"✅ {zip_path} içeriği {dest_dir} klasörüne çıkarıldı.\")\n"
      ]
    },
    {
      "cell_type": "code",
      "source": [
        "import os\n",
        "import time\n",
        "import random\n",
        "import numpy as np\n",
        "import torch\n",
        "import torch.nn as nn\n",
        "import timm\n",
        "\n",
        "from torchvision import transforms\n",
        "from torchvision.datasets import ImageFolder\n",
        "from torch.utils.data import DataLoader\n",
        "from sklearn.metrics import (\n",
        "    accuracy_score, precision_score, recall_score, f1_score,\n",
        "    roc_auc_score, confusion_matrix, roc_curve, auc\n",
        ")\n",
        "import matplotlib.pyplot as plt\n",
        "import seaborn as sns\n",
        "from tqdm import tqdm"
      ],
      "metadata": {
        "id": "qAObADiWbnnO"
      },
      "execution_count": null,
      "outputs": []
    },
    {
      "cell_type": "code",
      "source": [
        "# ─── 1️⃣ CONFIG ────────────────────────────────────────────────────────────────\n",
        "EPOCHS       = 30\n",
        "BATCH_SIZE   = 32   # ✅ Güncellendi\n",
        "IMG_SIZE     = 224\n",
        "NUM_CLASSES  = 5\n",
        "DATA_PATH    = \"/content/yenidataset_split3/yenidataset_split\"\n",
        "DEVICE       = torch.device(\"cuda\" if torch.cuda.is_available() else \"cpu\")\n",
        "SEED         = 42\n",
        "LR           = 1e-5\n",
        "WEIGHT_DECAY = 2e-2\n",
        "# ────────────────────────────────────────────────────────────────────────────────\n",
        "\n",
        "# Reproducibility\n",
        "torch.manual_seed(SEED)\n",
        "np.random.seed(SEED)\n",
        "random.seed(SEED)\n",
        "if DEVICE.type == 'cuda':\n",
        "    torch.cuda.manual_seed(SEED)\n"
      ],
      "metadata": {
        "id": "s476FZ8Lbnpy"
      },
      "execution_count": null,
      "outputs": []
    },
    {
      "cell_type": "code",
      "source": [
        "# ─── 2️⃣ TRANSFORMS ─────────────────────────────────────────────────────────────\n",
        "mean, std = [0.485, 0.456, 0.406], [0.229, 0.224, 0.225]\n",
        "\n",
        "train_transform = transforms.Compose([\n",
        "    transforms.RandomResizedCrop(IMG_SIZE, scale=(0.7, 1.0)),\n",
        "    transforms.RandomHorizontalFlip(),\n",
        "    transforms.RandomRotation(30),\n",
        "    transforms.ColorJitter(0.3, 0.3, 0.3, 0.2),\n",
        "    transforms.RandomPerspective(distortion_scale=0.4, p=0.5),\n",
        "    transforms.RandomAffine(degrees=20, translate=(0.1, 0.1)),\n",
        "    transforms.ToTensor(),\n",
        "    transforms.Normalize(mean, std)\n",
        "])\n",
        "\n",
        "val_transform = transforms.Compose([\n",
        "    transforms.Resize((IMG_SIZE, IMG_SIZE)),\n",
        "    transforms.ToTensor(),\n",
        "    transforms.Normalize(mean, std)\n",
        "])\n",
        "\n",
        "test_transform = transforms.Compose([\n",
        "    transforms.Resize((IMG_SIZE, IMG_SIZE)),\n",
        "    transforms.ToTensor(),\n",
        "    transforms.Normalize(mean, std)\n",
        "])\n"
      ],
      "metadata": {
        "id": "ev9TgyYrbnsJ"
      },
      "execution_count": null,
      "outputs": []
    },
    {
      "cell_type": "code",
      "source": [
        "# ─── 3️⃣ DATASETS & DATALOADERS ───────────────────────────────────────────────\n",
        "train_ds = ImageFolder(os.path.join(DATA_PATH, \"train\"), transform=train_transform)\n",
        "val_ds   = ImageFolder(os.path.join(DATA_PATH, \"val\"),   transform=val_transform)\n",
        "test_ds  = ImageFolder(os.path.join(DATA_PATH, \"test\"),  transform=test_transform)\n",
        "\n",
        "train_loader = DataLoader(train_ds, batch_size=BATCH_SIZE, shuffle=True,\n",
        "                          num_workers=2, pin_memory=True)\n",
        "val_loader   = DataLoader(val_ds,   batch_size=BATCH_SIZE, shuffle=False,\n",
        "                          num_workers=2, pin_memory=True)\n",
        "test_loader  = DataLoader(test_ds,  batch_size=BATCH_SIZE, shuffle=False,\n",
        "                          num_workers=2, pin_memory=True)\n"
      ],
      "metadata": {
        "id": "lYNwW6fDbnuq"
      },
      "execution_count": null,
      "outputs": []
    },
    {
      "cell_type": "code",
      "source": [
        "# ─── 4️⃣ MODEL, LOSS, OPTIMIZER & SCHEDULER ─────────────────────────────────────\n",
        "model = timm.create_model(\n",
        "    'maxvit_tiny_tf_224.in1k',  # MaxViT Tiny modeli (ImageNet1K pretrained)\n",
        "    pretrained=True,\n",
        "    num_classes=NUM_CLASSES,\n",
        "    drop_rate=0.5,\n",
        "    drop_path_rate=0.3\n",
        ").to(DEVICE)\n",
        "\n",
        "criterion = nn.CrossEntropyLoss()\n",
        "optimizer = torch.optim.AdamW(model.parameters(), lr=LR, weight_decay=WEIGHT_DECAY)\n",
        "\n",
        "# ✅ CosineAnnealingLR\n",
        "scheduler = torch.optim.lr_scheduler.CosineAnnealingLR(optimizer, T_max=EPOCHS)\n",
        "\n",
        "# ✅ Mixup Function\n",
        "def mixup_data(x, y, alpha=0.4):\n",
        "    lam = np.random.beta(alpha, alpha)\n",
        "    batch_size = x.size()[0]\n",
        "    index = torch.randperm(batch_size).to(DEVICE)\n",
        "    mixed_x = lam * x + (1 - lam) * x[index, :]\n",
        "    y_a, y_b = y, y[index]\n",
        "    return mixed_x, y_a, y_b, lam\n"
      ],
      "metadata": {
        "id": "ngK4hu5rbnxH",
        "colab": {
          "base_uri": "https://localhost:8080/",
          "height": 171,
          "referenced_widgets": [
            "872435497bed4a8c8927f9a1cfdf0825",
            "aa309e7887d74176af292440d2ab830f",
            "bcb73c722ba84d499ad7e66d36f132fe",
            "6b17507f6d33457bb02be190245051c6",
            "153babb99d8e441b9c0f958c18d6749c",
            "d97e556ca8364e48b1a512709e7048de",
            "b34e6639a0ec4a91b23c140fb21f8974",
            "d917f8723d114619ab597fc7b73642ba",
            "295f873906c14afc90dcc58b5cc0415d",
            "d3ff04d83d7b4ad0a69c3e18e639998a",
            "eaaf9a678eb14274904f84e298fef934"
          ]
        },
        "outputId": "3f92534f-798c-4953-ebb2-c3bbdd3f4b35"
      },
      "execution_count": null,
      "outputs": [
        {
          "output_type": "stream",
          "name": "stderr",
          "text": [
            "/usr/local/lib/python3.11/dist-packages/huggingface_hub/utils/_auth.py:94: UserWarning: \n",
            "The secret `HF_TOKEN` does not exist in your Colab secrets.\n",
            "To authenticate with the Hugging Face Hub, create a token in your settings tab (https://huggingface.co/settings/tokens), set it as secret in your Google Colab and restart your session.\n",
            "You will be able to reuse this secret in all of your notebooks.\n",
            "Please note that authentication is recommended but still optional to access public models or datasets.\n",
            "  warnings.warn(\n"
          ]
        },
        {
          "output_type": "display_data",
          "data": {
            "text/plain": [
              "model.safetensors:   0%|          | 0.00/124M [00:00<?, ?B/s]"
            ],
            "application/vnd.jupyter.widget-view+json": {
              "version_major": 2,
              "version_minor": 0,
              "model_id": "872435497bed4a8c8927f9a1cfdf0825"
            }
          },
          "metadata": {}
        }
      ]
    },
    {
      "cell_type": "code",
      "source": [
        "# ─── 5️⃣ TRAIN + VALIDATION ──────────────────────────────────────────────────\n",
        "train_losses, val_losses = [], []\n",
        "\n",
        "t0 = time.time()\n",
        "for epoch in range(1, EPOCHS+1):\n",
        "    t_epoch = time.time()\n",
        "\n",
        "    # — Train —\n",
        "    model.train()\n",
        "    run_train = 0.0\n",
        "    for imgs, lbls in tqdm(train_loader, desc=f\"Train {epoch}/{EPOCHS}\", leave=False):\n",
        "        imgs, lbls = imgs.to(DEVICE), lbls.to(DEVICE)\n",
        "\n",
        "        # ✅ Mixup kullanımı\n",
        "        inputs, targets_a, targets_b, lam = mixup_data(imgs, lbls, alpha=0.4)\n",
        "\n",
        "        optimizer.zero_grad()\n",
        "        out = model(inputs)\n",
        "        loss = lam * criterion(out, targets_a) + (1 - lam) * criterion(out, targets_b)\n",
        "        loss.backward()\n",
        "        optimizer.step()\n",
        "        run_train += loss.item()\n",
        "    train_loss = run_train / len(train_loader)\n",
        "    train_losses.append(train_loss)\n",
        "\n",
        "    # — Validation —\n",
        "    model.eval()\n",
        "    run_val = 0.0\n",
        "    with torch.no_grad():\n",
        "        for imgs, lbls in val_loader:\n",
        "            imgs, lbls = imgs.to(DEVICE), lbls.to(DEVICE)\n",
        "            out = model(imgs)\n",
        "            val_loss_batch = criterion(out, lbls)\n",
        "            run_val += val_loss_batch.item()\n",
        "    val_loss = run_val / len(val_loader)\n",
        "    val_losses.append(val_loss)\n",
        "\n",
        "    # ✅ Scheduler Update\n",
        "    scheduler.step()\n",
        "\n",
        "    print(f\"Epoch {epoch}/{EPOCHS} — {(time.time()-t_epoch):.1f}s | Train: {train_loss:.4f} | Val: {val_loss:.4f}\")\n",
        "\n",
        "# Final model save after all epochs\n",
        "torch.save(model.state_dict(), \"final_swin_model.pth\")\n",
        "print(f\"\\n🏁 Training completed in {(time.time()-t0)/60:.1f}m\")\n"
      ],
      "metadata": {
        "id": "vRjXmCyQbnzl",
        "colab": {
          "base_uri": "https://localhost:8080/"
        },
        "outputId": "9f6adb38-68c1-4416-bc7b-51ba440c506e"
      },
      "execution_count": null,
      "outputs": [
        {
          "output_type": "stream",
          "name": "stderr",
          "text": []
        },
        {
          "output_type": "stream",
          "name": "stdout",
          "text": [
            "Epoch 1/30 — 208.5s | Train: 1.5915 | Val: 1.4491\n"
          ]
        },
        {
          "output_type": "stream",
          "name": "stderr",
          "text": []
        },
        {
          "output_type": "stream",
          "name": "stdout",
          "text": [
            "Epoch 2/30 — 207.6s | Train: 1.4600 | Val: 1.2930\n"
          ]
        },
        {
          "output_type": "stream",
          "name": "stderr",
          "text": []
        },
        {
          "output_type": "stream",
          "name": "stdout",
          "text": [
            "Epoch 3/30 — 207.6s | Train: 1.3736 | Val: 1.2118\n"
          ]
        },
        {
          "output_type": "stream",
          "name": "stderr",
          "text": []
        },
        {
          "output_type": "stream",
          "name": "stdout",
          "text": [
            "Epoch 4/30 — 207.6s | Train: 1.3460 | Val: 1.1798\n"
          ]
        },
        {
          "output_type": "stream",
          "name": "stderr",
          "text": []
        },
        {
          "output_type": "stream",
          "name": "stdout",
          "text": [
            "Epoch 5/30 — 207.8s | Train: 1.3170 | Val: 1.1607\n"
          ]
        },
        {
          "output_type": "stream",
          "name": "stderr",
          "text": []
        },
        {
          "output_type": "stream",
          "name": "stdout",
          "text": [
            "Epoch 6/30 — 207.6s | Train: 1.2943 | Val: 1.1379\n"
          ]
        },
        {
          "output_type": "stream",
          "name": "stderr",
          "text": []
        },
        {
          "output_type": "stream",
          "name": "stdout",
          "text": [
            "Epoch 7/30 — 207.6s | Train: 1.2915 | Val: 1.1230\n"
          ]
        },
        {
          "output_type": "stream",
          "name": "stderr",
          "text": []
        },
        {
          "output_type": "stream",
          "name": "stdout",
          "text": [
            "Epoch 8/30 — 207.6s | Train: 1.2792 | Val: 1.1178\n"
          ]
        },
        {
          "output_type": "stream",
          "name": "stderr",
          "text": []
        },
        {
          "output_type": "stream",
          "name": "stdout",
          "text": [
            "Epoch 9/30 — 207.8s | Train: 1.2747 | Val: 1.1095\n"
          ]
        },
        {
          "output_type": "stream",
          "name": "stderr",
          "text": []
        },
        {
          "output_type": "stream",
          "name": "stdout",
          "text": [
            "Epoch 10/30 — 207.6s | Train: 1.2623 | Val: 1.1043\n"
          ]
        },
        {
          "output_type": "stream",
          "name": "stderr",
          "text": []
        },
        {
          "output_type": "stream",
          "name": "stdout",
          "text": [
            "Epoch 11/30 — 207.6s | Train: 1.2557 | Val: 1.0913\n"
          ]
        },
        {
          "output_type": "stream",
          "name": "stderr",
          "text": []
        },
        {
          "output_type": "stream",
          "name": "stdout",
          "text": [
            "Epoch 12/30 — 207.6s | Train: 1.2533 | Val: 1.0944\n"
          ]
        },
        {
          "output_type": "stream",
          "name": "stderr",
          "text": []
        },
        {
          "output_type": "stream",
          "name": "stdout",
          "text": [
            "Epoch 13/30 — 207.3s | Train: 1.2430 | Val: 1.0865\n"
          ]
        },
        {
          "output_type": "stream",
          "name": "stderr",
          "text": []
        },
        {
          "output_type": "stream",
          "name": "stdout",
          "text": [
            "Epoch 14/30 — 207.6s | Train: 1.2379 | Val: 1.0887\n"
          ]
        },
        {
          "output_type": "stream",
          "name": "stderr",
          "text": []
        },
        {
          "output_type": "stream",
          "name": "stdout",
          "text": [
            "Epoch 15/30 — 207.7s | Train: 1.2433 | Val: 1.0871\n"
          ]
        },
        {
          "output_type": "stream",
          "name": "stderr",
          "text": []
        },
        {
          "output_type": "stream",
          "name": "stdout",
          "text": [
            "Epoch 16/30 — 207.7s | Train: 1.2329 | Val: 1.0891\n"
          ]
        },
        {
          "output_type": "stream",
          "name": "stderr",
          "text": []
        },
        {
          "output_type": "stream",
          "name": "stdout",
          "text": [
            "Epoch 17/30 — 207.7s | Train: 1.2306 | Val: 1.0816\n"
          ]
        },
        {
          "output_type": "stream",
          "name": "stderr",
          "text": []
        },
        {
          "output_type": "stream",
          "name": "stdout",
          "text": [
            "Epoch 18/30 — 207.6s | Train: 1.2264 | Val: 1.0777\n"
          ]
        },
        {
          "output_type": "stream",
          "name": "stderr",
          "text": []
        },
        {
          "output_type": "stream",
          "name": "stdout",
          "text": [
            "Epoch 19/30 — 207.0s | Train: 1.2161 | Val: 1.0754\n"
          ]
        },
        {
          "output_type": "stream",
          "name": "stderr",
          "text": []
        },
        {
          "output_type": "stream",
          "name": "stdout",
          "text": [
            "Epoch 20/30 — 207.7s | Train: 1.2194 | Val: 1.0750\n"
          ]
        },
        {
          "output_type": "stream",
          "name": "stderr",
          "text": []
        },
        {
          "output_type": "stream",
          "name": "stdout",
          "text": [
            "Epoch 21/30 — 207.8s | Train: 1.2223 | Val: 1.0759\n"
          ]
        },
        {
          "output_type": "stream",
          "name": "stderr",
          "text": []
        },
        {
          "output_type": "stream",
          "name": "stdout",
          "text": [
            "Epoch 22/30 — 207.7s | Train: 1.2191 | Val: 1.0726\n"
          ]
        },
        {
          "output_type": "stream",
          "name": "stderr",
          "text": []
        },
        {
          "output_type": "stream",
          "name": "stdout",
          "text": [
            "Epoch 23/30 — 207.7s | Train: 1.2227 | Val: 1.0737\n"
          ]
        },
        {
          "output_type": "stream",
          "name": "stderr",
          "text": []
        },
        {
          "output_type": "stream",
          "name": "stdout",
          "text": [
            "Epoch 24/30 — 207.6s | Train: 1.2079 | Val: 1.0748\n"
          ]
        },
        {
          "output_type": "stream",
          "name": "stderr",
          "text": []
        },
        {
          "output_type": "stream",
          "name": "stdout",
          "text": [
            "Epoch 25/30 — 207.6s | Train: 1.2059 | Val: 1.0764\n"
          ]
        },
        {
          "output_type": "stream",
          "name": "stderr",
          "text": []
        },
        {
          "output_type": "stream",
          "name": "stdout",
          "text": [
            "Epoch 26/30 — 207.8s | Train: 1.2193 | Val: 1.0737\n"
          ]
        },
        {
          "output_type": "stream",
          "name": "stderr",
          "text": []
        },
        {
          "output_type": "stream",
          "name": "stdout",
          "text": [
            "Epoch 27/30 — 207.6s | Train: 1.2067 | Val: 1.0741\n"
          ]
        },
        {
          "output_type": "stream",
          "name": "stderr",
          "text": []
        },
        {
          "output_type": "stream",
          "name": "stdout",
          "text": [
            "Epoch 28/30 — 207.6s | Train: 1.2012 | Val: 1.0733\n"
          ]
        },
        {
          "output_type": "stream",
          "name": "stderr",
          "text": []
        },
        {
          "output_type": "stream",
          "name": "stdout",
          "text": [
            "Epoch 29/30 — 207.7s | Train: 1.2034 | Val: 1.0737\n"
          ]
        },
        {
          "output_type": "stream",
          "name": "stderr",
          "text": []
        },
        {
          "output_type": "stream",
          "name": "stdout",
          "text": [
            "Epoch 30/30 — 207.7s | Train: 1.2135 | Val: 1.0731\n",
            "\n",
            "🏁 Training completed in 103.8m\n"
          ]
        }
      ]
    },
    {
      "cell_type": "code",
      "source": [
        "# ─── 6️⃣ LOAD BEST MODEL & FINAL TEST EVALUATION ────────────────────────────────\n",
        "model.load_state_dict(torch.load(\"final_swin_model.pth\"))\n",
        "model.eval()\n",
        "\n",
        "all_labels, all_preds, all_probs = [], [], []\n",
        "t_inf = time.time()\n",
        "with torch.no_grad():\n",
        "    for imgs, lbls in tqdm(test_loader, desc=\"Test Inference\"):\n",
        "        imgs = imgs.to(DEVICE)\n",
        "        out  = model(imgs)\n",
        "        probs = torch.softmax(out, dim=1).cpu().numpy()\n",
        "        preds = np.argmax(probs, axis=1)\n",
        "        all_probs.extend(probs)\n",
        "        all_preds.extend(preds)\n",
        "        all_labels.extend(lbls.numpy())\n",
        "inf_time = time.time() - t_inf\n",
        "\n",
        "all_labels = np.array(all_labels)\n",
        "all_preds  = np.array(all_preds)\n",
        "all_probs  = np.array(all_probs)\n",
        "\n",
        "# ─── 7️⃣ METRICS ───────────────────────────────────────────────────────────────\n",
        "conf = confusion_matrix(all_labels, all_preds)\n",
        "acc   = accuracy_score(all_labels, all_preds)\n",
        "prec  = precision_score(all_labels, all_preds, average='macro')\n",
        "rec   = recall_score(all_labels, all_preds, average='macro')\n",
        "f1    = f1_score(all_labels, all_preds, average='macro')\n",
        "auc_m = roc_auc_score(all_labels, all_probs, multi_class='ovr', average='micro')\n",
        "auc_M = roc_auc_score(all_labels, all_probs, multi_class='ovr', average='macro')\n",
        "\n",
        "# Specificity (macro)\n",
        "specs = []\n",
        "for i in range(NUM_CLASSES):\n",
        "    TP = conf[i,i]\n",
        "    FN = conf[i,:].sum() - TP\n",
        "    FP = conf[:,i].sum() - TP\n",
        "    TN = conf.sum() - TP - FN - FP\n",
        "    specs.append(TN / (TN + FP))\n",
        "spec_macro = np.mean(specs)\n",
        "\n",
        "print(f\"\\nFinal Test Metrics:\")\n",
        "print(f\" • Accuracy       : {acc:.4f}\")\n",
        "print(f\" • Precision (M)  : {prec:.4f}\")\n",
        "print(f\" • Recall    (M)  : {rec:.4f}\")\n",
        "print(f\" • F1-Score  (M)  : {f1:.4f}\")\n",
        "print(f\" • AUC-micro      : {auc_m:.4f}\")\n",
        "print(f\" • AUC-macro      : {auc_M:.4f}\")\n",
        "print(f\" • Sensitivity (M): {rec:.4f}\")\n",
        "print(f\" • Specificity (M): {spec_macro:.4f}\")\n",
        "print(f\" • Train Time     : {(time.time()-t0):.1f}s\")\n",
        "print(f\" • Inference Time : {inf_time:.1f}s\")\n",
        "\n",
        "# ─── 8️⃣ PLOTS ───────────────────────────────────────────────────────────────\n",
        "plt.figure(figsize=(7,6))\n",
        "sns.heatmap(conf, annot=True, fmt='d', cmap='Blues',\n",
        "            xticklabels=test_ds.classes, yticklabels=test_ds.classes)\n",
        "plt.title(\"Confusion Matrix\"); plt.xlabel(\"Predicted\"); plt.ylabel(\"Actual\"); plt.show()\n",
        "\n",
        "plt.figure(figsize=(8,6))\n",
        "fpr, tpr, roc_auc = {}, {}, {}\n",
        "for i, cls in enumerate(test_ds.classes):\n",
        "    fpr[i], tpr[i], _ = roc_curve((all_labels==i).astype(int), all_probs[:,i])\n",
        "    roc_auc[i] = auc(fpr[i], tpr[i])\n",
        "    plt.plot(fpr[i], tpr[i], label=f\"{cls} (AUC={roc_auc[i]:.2f})\")\n",
        "plt.plot([0,1],[0,1],'k--'); plt.title(\"ROC Curves\"); plt.xlabel(\"FPR\"); plt.ylabel(\"TPR\"); plt.legend(); plt.show()\n",
        "\n",
        "plt.figure(figsize=(8,5))\n",
        "plt.plot(range(1, len(train_losses)+1), train_losses, label='Train Loss')\n",
        "plt.plot(range(1, len(val_losses)+1),   val_losses,   label='Val Loss')\n",
        "plt.title(\"Epoch vs Loss\"); plt.xlabel(\"Epoch\"); plt.ylabel(\"Loss\"); plt.legend(); plt.show()\n"
      ],
      "metadata": {
        "id": "LTYNyA73bn2L",
        "colab": {
          "base_uri": "https://localhost:8080/",
          "height": 1000
        },
        "outputId": "3305e16d-6096-482d-9955-175fdc2a2cbb"
      },
      "execution_count": null,
      "outputs": [
        {
          "output_type": "stream",
          "name": "stderr",
          "text": [
            "Test Inference: 100%|██████████| 62/62 [00:08<00:00,  7.57it/s]\n"
          ]
        },
        {
          "output_type": "stream",
          "name": "stdout",
          "text": [
            "\n",
            "Final Test Metrics:\n",
            " • Accuracy       : 0.6077\n",
            " • Precision (M)  : 0.6066\n",
            " • Recall    (M)  : 0.6087\n",
            " • F1-Score  (M)  : 0.6066\n",
            " • AUC-micro      : 0.8683\n",
            " • AUC-macro      : 0.8605\n",
            " • Sensitivity (M): 0.6087\n",
            " • Specificity (M): 0.9019\n",
            " • Train Time     : 6252.2s\n",
            " • Inference Time : 8.2s\n"
          ]
        },
        {
          "output_type": "display_data",
          "data": {
            "text/plain": [
              "<Figure size 700x600 with 2 Axes>"
            ],
            "image/png": "[encoded data removed]"
          },
          "metadata": {}
        },
        {
          "output_type": "display_data",
          "data": {
            "text/plain": [
              "<Figure size 800x600 with 1 Axes>"
            ],
            "image/png": "[encoded data removed]"
          },
          "metadata": {}
        },
        {
          "output_type": "display_data",
          "data": {
            "text/plain": [
              "<Figure size 800x500 with 1 Axes>"
            ],
            "image/png": "[encoded data removed]"
          },
          "metadata": {}
        }
      ]
    },
    {
      "cell_type": "code",
      "source": [],
      "metadata": {
        "id": "PjcVeN18bn5J"
      },
      "execution_count": null,
      "outputs": []
    },
    {
      "cell_type": "code",
      "source": [],
      "metadata": {
        "id": "WrIFzcQEbn7V"
      },
      "execution_count": null,
      "outputs": []
    },
    {
      "cell_type": "code",
      "source": [],
      "metadata": {
        "id": "SwijiSJ-bn8J"
      },
      "execution_count": null,
      "outputs": []
    },
    {
      "cell_type": "code",
      "source": [],
      "metadata": {
        "id": "_oDcIi63bn-S"
      },
      "execution_count": null,
      "outputs": []
    },
    {
      "cell_type": "code",
      "source": [],
      "metadata": {
        "id": "pKNrzLD6boAl"
      },
      "execution_count": null,
      "outputs": []
    }
  ]
}