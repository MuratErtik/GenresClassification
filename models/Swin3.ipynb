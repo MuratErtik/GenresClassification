{
  "nbformat": 4,
  "nbformat_minor": 0,
  "metadata": {
    "colab": {
      "provenance": [],
      "machine_shape": "hm",
      "gpuType": "A100"
    },
    "kernelspec": {
      "name": "python3",
      "display_name": "Python 3"
    },
    "language_info": {
      "name": "python"
    },
    "accelerator": "GPU",
    "widgets": {
      "application/vnd.jupyter.widget-state+json": {
        "8a4aa766829e4f708ed9927d3210e5a8": {
          "model_module": "@jupyter-widgets/controls",
          "model_name": "HBoxModel",
          "model_module_version": "1.5.0",
          "state": {
            "_dom_classes": [],
            "_model_module": "@jupyter-widgets/controls",
            "_model_module_version": "1.5.0",
            "_model_name": "HBoxModel",
            "_view_count": null,
            "_view_module": "@jupyter-widgets/controls",
            "_view_module_version": "1.5.0",
            "_view_name": "HBoxView",
            "box_style": "",
            "children": [
              "IPY_MODEL_69be92991eec476489591cfd388ae201",
              "IPY_MODEL_4154f60d4b0242219ab2381e0e7fce0d",
              "IPY_MODEL_3a58d6c91783416893f5958cdfac6f9f"
            ],
            "layout": "IPY_MODEL_05a4912cb77548e2a55cc2d811d2ed11"
          }
        },
        "69be92991eec476489591cfd388ae201": {
          "model_module": "@jupyter-widgets/controls",
          "model_name": "HTMLModel",
          "model_module_version": "1.5.0",
          "state": {
            "_dom_classes": [],
            "_model_module": "@jupyter-widgets/controls",
            "_model_module_version": "1.5.0",
            "_model_name": "HTMLModel",
            "_view_count": null,
            "_view_module": "@jupyter-widgets/controls",
            "_view_module_version": "1.5.0",
            "_view_name": "HTMLView",
            "description": "",
            "description_tooltip": null,
            "layout": "IPY_MODEL_cfae91f28e494de5840615a1a1c26256",
            "placeholder": "​",
            "style": "IPY_MODEL_ad7fb0b2ce5d4600b26b19bebb43f607",
            "value": "model.safetensors: 100%"
          }
        },
        "4154f60d4b0242219ab2381e0e7fce0d": {
          "model_module": "@jupyter-widgets/controls",
          "model_name": "FloatProgressModel",
          "model_module_version": "1.5.0",
          "state": {
            "_dom_classes": [],
            "_model_module": "@jupyter-widgets/controls",
            "_model_module_version": "1.5.0",
            "_model_name": "FloatProgressModel",
            "_view_count": null,
            "_view_module": "@jupyter-widgets/controls",
            "_view_module_version": "1.5.0",
            "_view_name": "ProgressView",
            "bar_style": "success",
            "description": "",
            "description_tooltip": null,
            "layout": "IPY_MODEL_05d4dbb414fe4c1c90e719b329253a12",
            "max": 114286722,
            "min": 0,
            "orientation": "horizontal",
            "style": "IPY_MODEL_cfc3f5cb64884377ae683e19d69787c8",
            "value": 114286722
          }
        },
        "3a58d6c91783416893f5958cdfac6f9f": {
          "model_module": "@jupyter-widgets/controls",
          "model_name": "HTMLModel",
          "model_module_version": "1.5.0",
          "state": {
            "_dom_classes": [],
            "_model_module": "@jupyter-widgets/controls",
            "_model_module_version": "1.5.0",
            "_model_name": "HTMLModel",
            "_view_count": null,
            "_view_module": "@jupyter-widgets/controls",
            "_view_module_version": "1.5.0",
            "_view_name": "HTMLView",
            "description": "",
            "description_tooltip": null,
            "layout": "IPY_MODEL_49fb4fd96d0448ec9a197e8f8adae529",
            "placeholder": "​",
            "style": "IPY_MODEL_142145d8c0f34e3d9fda3bb583eb334e",
            "value": " 114M/114M [00:00&lt;00:00, 194MB/s]"
          }
        },
        "05a4912cb77548e2a55cc2d811d2ed11": {
          "model_module": "@jupyter-widgets/base",
          "model_name": "LayoutModel",
          "model_module_version": "1.2.0",
          "state": {
            "_model_module": "@jupyter-widgets/base",
            "_model_module_version": "1.2.0",
            "_model_name": "LayoutModel",
            "_view_count": null,
            "_view_module": "@jupyter-widgets/base",
            "_view_module_version": "1.2.0",
            "_view_name": "LayoutView",
            "align_content": null,
            "align_items": null,
            "align_self": null,
            "border": null,
            "bottom": null,
            "display": null,
            "flex": null,
            "flex_flow": null,
            "grid_area": null,
            "grid_auto_columns": null,
            "grid_auto_flow": null,
            "grid_auto_rows": null,
            "grid_column": null,
            "grid_gap": null,
            "grid_row": null,
            "grid_template_areas": null,
            "grid_template_columns": null,
            "grid_template_rows": null,
            "height": null,
            "justify_content": null,
            "justify_items": null,
            "left": null,
            "margin": null,
            "max_height": null,
            "max_width": null,
            "min_height": null,
            "min_width": null,
            "object_fit": null,
            "object_position": null,
            "order": null,
            "overflow": null,
            "overflow_x": null,
            "overflow_y": null,
            "padding": null,
            "right": null,
            "top": null,
            "visibility": null,
            "width": null
          }
        },
        "cfae91f28e494de5840615a1a1c26256": {
          "model_module": "@jupyter-widgets/base",
          "model_name": "LayoutModel",
          "model_module_version": "1.2.0",
          "state": {
            "_model_module": "@jupyter-widgets/base",
            "_model_module_version": "1.2.0",
            "_model_name": "LayoutModel",
            "_view_count": null,
            "_view_module": "@jupyter-widgets/base",
            "_view_module_version": "1.2.0",
            "_view_name": "LayoutView",
            "align_content": null,
            "align_items": null,
            "align_self": null,
            "border": null,
            "bottom": null,
            "display": null,
            "flex": null,
            "flex_flow": null,
            "grid_area": null,
            "grid_auto_columns": null,
            "grid_auto_flow": null,
            "grid_auto_rows": null,
            "grid_column": null,
            "grid_gap": null,
            "grid_row": null,
            "grid_template_areas": null,
            "grid_template_columns": null,
            "grid_template_rows": null,
            "height": null,
            "justify_content": null,
            "justify_items": null,
            "left": null,
            "margin": null,
            "max_height": null,
            "max_width": null,
            "min_height": null,
            "min_width": null,
            "object_fit": null,
            "object_position": null,
            "order": null,
            "overflow": null,
            "overflow_x": null,
            "overflow_y": null,
            "padding": null,
            "right": null,
            "top": null,
            "visibility": null,
            "width": null
          }
        },
        "ad7fb0b2ce5d4600b26b19bebb43f607": {
          "model_module": "@jupyter-widgets/controls",
          "model_name": "DescriptionStyleModel",
          "model_module_version": "1.5.0",
          "state": {
            "_model_module": "@jupyter-widgets/controls",
            "_model_module_version": "1.5.0",
            "_model_name": "DescriptionStyleModel",
            "_view_count": null,
            "_view_module": "@jupyter-widgets/base",
            "_view_module_version": "1.2.0",
            "_view_name": "StyleView",
            "description_width": ""
          }
        },
        "05d4dbb414fe4c1c90e719b329253a12": {
          "model_module": "@jupyter-widgets/base",
          "model_name": "LayoutModel",
          "model_module_version": "1.2.0",
          "state": {
            "_model_module": "@jupyter-widgets/base",
            "_model_module_version": "1.2.0",
            "_model_name": "LayoutModel",
            "_view_count": null,
            "_view_module": "@jupyter-widgets/base",
            "_view_module_version": "1.2.0",
            "_view_name": "LayoutView",
            "align_content": null,
            "align_items": null,
            "align_self": null,
            "border": null,
            "bottom": null,
            "display": null,
            "flex": null,
            "flex_flow": null,
            "grid_area": null,
            "grid_auto_columns": null,
            "grid_auto_flow": null,
            "grid_auto_rows": null,
            "grid_column": null,
            "grid_gap": null,
            "grid_row": null,
            "grid_template_areas": null,
            "grid_template_columns": null,
            "grid_template_rows": null,
            "height": null,
            "justify_content": null,
            "justify_items": null,
            "left": null,
            "margin": null,
            "max_height": null,
            "max_width": null,
            "min_height": null,
            "min_width": null,
            "object_fit": null,
            "object_position": null,
            "order": null,
            "overflow": null,
            "overflow_x": null,
            "overflow_y": null,
            "padding": null,
            "right": null,
            "top": null,
            "visibility": null,
            "width": null
          }
        },
        "cfc3f5cb64884377ae683e19d69787c8": {
          "model_module": "@jupyter-widgets/controls",
          "model_name": "ProgressStyleModel",
          "model_module_version": "1.5.0",
          "state": {
            "_model_module": "@jupyter-widgets/controls",
            "_model_module_version": "1.5.0",
            "_model_name": "ProgressStyleModel",
            "_view_count": null,
            "_view_module": "@jupyter-widgets/base",
            "_view_module_version": "1.2.0",
            "_view_name": "StyleView",
            "bar_color": null,
            "description_width": ""
          }
        },
        "49fb4fd96d0448ec9a197e8f8adae529": {
          "model_module": "@jupyter-widgets/base",
          "model_name": "LayoutModel",
          "model_module_version": "1.2.0",
          "state": {
            "_model_module": "@jupyter-widgets/base",
            "_model_module_version": "1.2.0",
            "_model_name": "LayoutModel",
            "_view_count": null,
            "_view_module": "@jupyter-widgets/base",
            "_view_module_version": "1.2.0",
            "_view_name": "LayoutView",
            "align_content": null,
            "align_items": null,
            "align_self": null,
            "border": null,
            "bottom": null,
            "display": null,
            "flex": null,
            "flex_flow": null,
            "grid_area": null,
            "grid_auto_columns": null,
            "grid_auto_flow": null,
            "grid_auto_rows": null,
            "grid_column": null,
            "grid_gap": null,
            "grid_row": null,
            "grid_template_areas": null,
            "grid_template_columns": null,
            "grid_template_rows": null,
            "height": null,
            "justify_content": null,
            "justify_items": null,
            "left": null,
            "margin": null,
            "max_height": null,
            "max_width": null,
            "min_height": null,
            "min_width": null,
            "object_fit": null,
            "object_position": null,
            "order": null,
            "overflow": null,
            "overflow_x": null,
            "overflow_y": null,
            "padding": null,
            "right": null,
            "top": null,
            "visibility": null,
            "width": null
          }
        },
        "142145d8c0f34e3d9fda3bb583eb334e": {
          "model_module": "@jupyter-widgets/controls",
          "model_name": "DescriptionStyleModel",
          "model_module_version": "1.5.0",
          "state": {
            "_model_module": "@jupyter-widgets/controls",
            "_model_module_version": "1.5.0",
            "_model_name": "DescriptionStyleModel",
            "_view_count": null,
            "_view_module": "@jupyter-widgets/base",
            "_view_module_version": "1.2.0",
            "_view_name": "StyleView",
            "description_width": ""
          }
        }
      }
    }
  },
  "cells": [
    {
      "cell_type": "code",
      "execution_count": null,
      "metadata": {
        "colab": {
          "base_uri": "https://localhost:8080/"
        },
        "id": "ydoisYktmV_d",
        "outputId": "3753ed61-c718-4208-97f7-41a5b9a3e592"
      },
      "outputs": [
        {
          "output_type": "stream",
          "name": "stdout",
          "text": [
            "Drive already mounted at /content/drive; to attempt to forcibly remount, call drive.mount(\"/content/drive\", force_remount=True).\n",
            "✅ /content/drive/MyDrive/yenidataset_split.zip içeriği /content/yenidataset_split3 klasörüne çıkarıldı.\n"
          ]
        }
      ],
      "source": [
        "from google.colab import drive\n",
        "drive.mount('/content/drive')\n",
        "\n",
        "zip_path = \"/content/drive/MyDrive/yenidataset_split.zip\"\n",
        "\n",
        "dest_dir = \"/content/yenidataset_split3\"\n",
        "\n",
        "import zipfile\n",
        "with zipfile.ZipFile(zip_path, 'r') as zip_ref:\n",
        "    zip_ref.extractall(dest_dir)\n",
        "\n",
        "print(f\"✅ {zip_path} içeriği {dest_dir} klasörüne çıkarıldı.\")\n"
      ]
    },
    {
      "cell_type": "code",
      "source": [
        "import os\n",
        "import time\n",
        "import random\n",
        "import numpy as np\n",
        "import torch\n",
        "import torch.nn as nn\n",
        "import timm\n",
        "\n",
        "from torchvision import transforms\n",
        "from torchvision.datasets import ImageFolder\n",
        "from torch.utils.data import DataLoader\n",
        "from sklearn.metrics import (\n",
        "    accuracy_score, precision_score, recall_score, f1_score,\n",
        "    roc_auc_score, confusion_matrix, roc_curve, auc\n",
        ")\n",
        "import matplotlib.pyplot as plt\n",
        "import seaborn as sns\n",
        "from tqdm import tqdm"
      ],
      "metadata": {
        "id": "V-YT-MIEmZjB"
      },
      "execution_count": null,
      "outputs": []
    },
    {
      "cell_type": "code",
      "source": [
        "# ─── 1️⃣ CONFIG ────────────────────────────────────────────────────────────────\n",
        "EPOCHS       = 30\n",
        "BATCH_SIZE   = 32\n",
        "IMG_SIZE     = 224\n",
        "NUM_CLASSES  = 5\n",
        "DATA_PATH    = \"/content/yenidataset_split3/yenidataset_split\"\n",
        "DEVICE       = torch.device(\"cuda\" if torch.cuda.is_available() else \"cpu\")\n",
        "SEED         = 42\n",
        "LR           = 1e-5\n",
        "WEIGHT_DECAY = 2e-2\n",
        "# ────────────────────────────────────────────────────────────────────────────────\n",
        "\n",
        "# Reproducibility\n",
        "torch.manual_seed(SEED)\n",
        "np.random.seed(SEED)\n",
        "random.seed(SEED)\n",
        "if DEVICE.type == 'cuda':\n",
        "    torch.cuda.manual_seed(SEED)\n"
      ],
      "metadata": {
        "id": "ofPtMq2ImZl4"
      },
      "execution_count": null,
      "outputs": []
    },
    {
      "cell_type": "code",
      "source": [
        "# ─── 2️⃣ TRANSFORMS ─────────────────────────────────────────────────────────────\n",
        "mean, std = [0.485, 0.456, 0.406], [0.229, 0.224, 0.225]\n",
        "\n",
        "train_transform = transforms.Compose([\n",
        "    transforms.RandomResizedCrop(IMG_SIZE, scale=(0.7, 1.0)),\n",
        "    transforms.RandomHorizontalFlip(),\n",
        "    transforms.RandomRotation(30),\n",
        "    transforms.ColorJitter(0.3, 0.3, 0.3, 0.2),\n",
        "    transforms.RandomPerspective(distortion_scale=0.4, p=0.5),\n",
        "    transforms.RandomAffine(degrees=20, translate=(0.1, 0.1)),\n",
        "    transforms.ToTensor(),\n",
        "    transforms.Normalize(mean, std)\n",
        "])\n",
        "\n",
        "val_transform = transforms.Compose([\n",
        "    transforms.Resize((IMG_SIZE, IMG_SIZE)),\n",
        "    transforms.ToTensor(),\n",
        "    transforms.Normalize(mean, std)\n",
        "])\n",
        "\n",
        "test_transform = transforms.Compose([\n",
        "    transforms.Resize((IMG_SIZE, IMG_SIZE)),\n",
        "    transforms.ToTensor(),\n",
        "    transforms.Normalize(mean, std)\n",
        "])\n"
      ],
      "metadata": {
        "id": "i-WW6qFVmZov"
      },
      "execution_count": null,
      "outputs": []
    },
    {
      "cell_type": "code",
      "source": [
        "# ─── 3️⃣ DATASETS & DATALOADERS ───────────────────────────────────────────────\n",
        "train_ds = ImageFolder(os.path.join(DATA_PATH, \"train\"), transform=train_transform)\n",
        "val_ds   = ImageFolder(os.path.join(DATA_PATH, \"val\"),   transform=val_transform)\n",
        "test_ds  = ImageFolder(os.path.join(DATA_PATH, \"test\"),  transform=test_transform)\n",
        "\n",
        "train_loader = DataLoader(train_ds, batch_size=BATCH_SIZE, shuffle=True,\n",
        "                          num_workers=2, pin_memory=True)\n",
        "val_loader   = DataLoader(val_ds,   batch_size=BATCH_SIZE, shuffle=False,\n",
        "                          num_workers=2, pin_memory=True)\n",
        "test_loader  = DataLoader(test_ds,  batch_size=BATCH_SIZE, shuffle=False,\n",
        "                          num_workers=2, pin_memory=True)"
      ],
      "metadata": {
        "id": "AcJjYWHamZrS"
      },
      "execution_count": null,
      "outputs": []
    },
    {
      "cell_type": "code",
      "source": [
        "# ─── 4️⃣ MODEL, LOSS, OPTIMIZER & SCHEDULER ─────────────────────────────────────\n",
        "model = timm.create_model(\n",
        "    'swin_tiny_patch4_window7_224',\n",
        "    pretrained=True,\n",
        "    num_classes=NUM_CLASSES,\n",
        "    drop_rate=0.5,\n",
        "    drop_path_rate=0.3\n",
        ").to(DEVICE)\n",
        "\n",
        "criterion = nn.CrossEntropyLoss()\n",
        "optimizer = torch.optim.AdamW(model.parameters(), lr=LR, weight_decay=WEIGHT_DECAY)\n",
        "\n",
        "# ✅ CosineAnnealingLR (instead of ReduceLROnPlateau)\n",
        "scheduler = torch.optim.lr_scheduler.CosineAnnealingLR(optimizer, T_max=EPOCHS)\n",
        "\n",
        "# ✅ Mixup Function\n",
        "def mixup_data(x, y, alpha=0.4):\n",
        "    lam = np.random.beta(alpha, alpha)\n",
        "    batch_size = x.size()[0]\n",
        "    index = torch.randperm(batch_size).to(DEVICE)\n",
        "    mixed_x = lam * x + (1 - lam) * x[index, :]\n",
        "    y_a, y_b = y, y[index]\n",
        "    return mixed_x, y_a, y_b, lam"
      ],
      "metadata": {
        "colab": {
          "base_uri": "https://localhost:8080/",
          "height": 171,
          "referenced_widgets": [
            "8a4aa766829e4f708ed9927d3210e5a8",
            "69be92991eec476489591cfd388ae201",
            "4154f60d4b0242219ab2381e0e7fce0d",
            "3a58d6c91783416893f5958cdfac6f9f",
            "05a4912cb77548e2a55cc2d811d2ed11",
            "cfae91f28e494de5840615a1a1c26256",
            "ad7fb0b2ce5d4600b26b19bebb43f607",
            "05d4dbb414fe4c1c90e719b329253a12",
            "cfc3f5cb64884377ae683e19d69787c8",
            "49fb4fd96d0448ec9a197e8f8adae529",
            "142145d8c0f34e3d9fda3bb583eb334e"
          ]
        },
        "id": "b7nm-_MdmZuI",
        "outputId": "9f41a9b1-54f7-4aee-b13c-7e0cfdfd91ca"
      },
      "execution_count": null,
      "outputs": [
        {
          "output_type": "stream",
          "name": "stderr",
          "text": [
            "/usr/local/lib/python3.11/dist-packages/huggingface_hub/utils/_auth.py:94: UserWarning: \n",
            "The secret `HF_TOKEN` does not exist in your Colab secrets.\n",
            "To authenticate with the Hugging Face Hub, create a token in your settings tab (https://huggingface.co/settings/tokens), set it as secret in your Google Colab and restart your session.\n",
            "You will be able to reuse this secret in all of your notebooks.\n",
            "Please note that authentication is recommended but still optional to access public models or datasets.\n",
            "  warnings.warn(\n"
          ]
        },
        {
          "output_type": "display_data",
          "data": {
            "text/plain": [
              "model.safetensors:   0%|          | 0.00/114M [00:00<?, ?B/s]"
            ],
            "application/vnd.jupyter.widget-view+json": {
              "version_major": 2,
              "version_minor": 0,
              "model_id": "8a4aa766829e4f708ed9927d3210e5a8"
            }
          },
          "metadata": {}
        }
      ]
    },
    {
      "cell_type": "code",
      "source": [
        "# ─── 5️⃣ TRAIN + VALIDATION ──────────────────────────────────────────────────\n",
        "train_losses, val_losses = [], []\n",
        "\n",
        "t0 = time.time()\n",
        "for epoch in range(1, EPOCHS+1):\n",
        "    t_epoch = time.time()\n",
        "\n",
        "    # — Train —\n",
        "    model.train()\n",
        "    run_train = 0.0\n",
        "    for imgs, lbls in tqdm(train_loader, desc=f\"Train {epoch}/{EPOCHS}\", leave=False):\n",
        "        imgs, lbls = imgs.to(DEVICE), lbls.to(DEVICE)\n",
        "\n",
        "        # ✅ Mixup kullanımı\n",
        "        inputs, targets_a, targets_b, lam = mixup_data(imgs, lbls, alpha=0.4)\n",
        "\n",
        "        optimizer.zero_grad()\n",
        "        out = model(inputs)\n",
        "        loss = lam * criterion(out, targets_a) + (1 - lam) * criterion(out, targets_b)\n",
        "        loss.backward()\n",
        "        optimizer.step()\n",
        "        run_train += loss.item()\n",
        "    train_loss = run_train / len(train_loader)\n",
        "    train_losses.append(train_loss)\n",
        "\n",
        "    # — Validation —\n",
        "    model.eval()\n",
        "    run_val = 0.0\n",
        "    with torch.no_grad():\n",
        "        for imgs, lbls in val_loader:\n",
        "            imgs, lbls = imgs.to(DEVICE), lbls.to(DEVICE)\n",
        "            out = model(imgs)\n",
        "            val_loss_batch = criterion(out, lbls)\n",
        "            run_val += val_loss_batch.item()\n",
        "    val_loss = run_val / len(val_loader)\n",
        "    val_losses.append(val_loss)\n",
        "\n",
        "    # ✅ Scheduler Update\n",
        "    scheduler.step()\n",
        "\n",
        "    print(f\"Epoch {epoch}/{EPOCHS} — {(time.time()-t_epoch):.1f}s | Train: {train_loss:.4f} | Val: {val_loss:.4f}\")\n",
        "\n",
        "# Final model save after all epochs\n",
        "torch.save(model.state_dict(), \"final_swin_model.pth\")\n",
        "print(f\"\\n🏁 Training completed in {(time.time()-t0)/60:.1f}m\")"
      ],
      "metadata": {
        "colab": {
          "base_uri": "https://localhost:8080/"
        },
        "id": "kqAlmHV3mZw9",
        "outputId": "6a9835a9-3e5b-474b-c725-cbba1c790b73"
      },
      "execution_count": null,
      "outputs": [
        {
          "output_type": "stream",
          "name": "stderr",
          "text": []
        },
        {
          "output_type": "stream",
          "name": "stdout",
          "text": [
            "Epoch 1/30 — 120.5s | Train: 1.5073 | Val: 1.2377\n"
          ]
        },
        {
          "output_type": "stream",
          "name": "stderr",
          "text": []
        },
        {
          "output_type": "stream",
          "name": "stdout",
          "text": [
            "Epoch 2/30 — 121.0s | Train: 1.3634 | Val: 1.1767\n"
          ]
        },
        {
          "output_type": "stream",
          "name": "stderr",
          "text": []
        },
        {
          "output_type": "stream",
          "name": "stdout",
          "text": [
            "Epoch 3/30 — 121.2s | Train: 1.3168 | Val: 1.1422\n"
          ]
        },
        {
          "output_type": "stream",
          "name": "stderr",
          "text": []
        },
        {
          "output_type": "stream",
          "name": "stdout",
          "text": [
            "Epoch 4/30 — 121.1s | Train: 1.3077 | Val: 1.1314\n"
          ]
        },
        {
          "output_type": "stream",
          "name": "stderr",
          "text": []
        },
        {
          "output_type": "stream",
          "name": "stdout",
          "text": [
            "Epoch 5/30 — 121.0s | Train: 1.2818 | Val: 1.1131\n"
          ]
        },
        {
          "output_type": "stream",
          "name": "stderr",
          "text": []
        },
        {
          "output_type": "stream",
          "name": "stdout",
          "text": [
            "Epoch 6/30 — 120.7s | Train: 1.2692 | Val: 1.1041\n"
          ]
        },
        {
          "output_type": "stream",
          "name": "stderr",
          "text": []
        },
        {
          "output_type": "stream",
          "name": "stdout",
          "text": [
            "Epoch 7/30 — 120.4s | Train: 1.2586 | Val: 1.0995\n"
          ]
        },
        {
          "output_type": "stream",
          "name": "stderr",
          "text": []
        },
        {
          "output_type": "stream",
          "name": "stdout",
          "text": [
            "Epoch 8/30 — 120.4s | Train: 1.2510 | Val: 1.0971\n"
          ]
        },
        {
          "output_type": "stream",
          "name": "stderr",
          "text": []
        },
        {
          "output_type": "stream",
          "name": "stdout",
          "text": [
            "Epoch 9/30 — 120.2s | Train: 1.2561 | Val: 1.0856\n"
          ]
        },
        {
          "output_type": "stream",
          "name": "stderr",
          "text": []
        },
        {
          "output_type": "stream",
          "name": "stdout",
          "text": [
            "Epoch 10/30 — 120.3s | Train: 1.2428 | Val: 1.0841\n"
          ]
        },
        {
          "output_type": "stream",
          "name": "stderr",
          "text": []
        },
        {
          "output_type": "stream",
          "name": "stdout",
          "text": [
            "Epoch 11/30 — 120.2s | Train: 1.2299 | Val: 1.0955\n"
          ]
        },
        {
          "output_type": "stream",
          "name": "stderr",
          "text": []
        },
        {
          "output_type": "stream",
          "name": "stdout",
          "text": [
            "Epoch 12/30 — 120.0s | Train: 1.2359 | Val: 1.0737\n"
          ]
        },
        {
          "output_type": "stream",
          "name": "stderr",
          "text": []
        },
        {
          "output_type": "stream",
          "name": "stdout",
          "text": [
            "Epoch 13/30 — 120.1s | Train: 1.2270 | Val: 1.0747\n"
          ]
        },
        {
          "output_type": "stream",
          "name": "stderr",
          "text": []
        },
        {
          "output_type": "stream",
          "name": "stdout",
          "text": [
            "Epoch 14/30 — 120.1s | Train: 1.2093 | Val: 1.0795\n"
          ]
        },
        {
          "output_type": "stream",
          "name": "stderr",
          "text": []
        },
        {
          "output_type": "stream",
          "name": "stdout",
          "text": [
            "Epoch 15/30 — 120.1s | Train: 1.2133 | Val: 1.0946\n"
          ]
        },
        {
          "output_type": "stream",
          "name": "stderr",
          "text": []
        },
        {
          "output_type": "stream",
          "name": "stdout",
          "text": [
            "Epoch 16/30 — 120.2s | Train: 1.2220 | Val: 1.0733\n"
          ]
        },
        {
          "output_type": "stream",
          "name": "stderr",
          "text": []
        },
        {
          "output_type": "stream",
          "name": "stdout",
          "text": [
            "Epoch 17/30 — 120.2s | Train: 1.2038 | Val: 1.0734\n"
          ]
        },
        {
          "output_type": "stream",
          "name": "stderr",
          "text": []
        },
        {
          "output_type": "stream",
          "name": "stdout",
          "text": [
            "Epoch 18/30 — 121.3s | Train: 1.2032 | Val: 1.0718\n"
          ]
        },
        {
          "output_type": "stream",
          "name": "stderr",
          "text": []
        },
        {
          "output_type": "stream",
          "name": "stdout",
          "text": [
            "Epoch 19/30 — 121.6s | Train: 1.1918 | Val: 1.0688\n"
          ]
        },
        {
          "output_type": "stream",
          "name": "stderr",
          "text": []
        },
        {
          "output_type": "stream",
          "name": "stdout",
          "text": [
            "Epoch 20/30 — 121.1s | Train: 1.2032 | Val: 1.0696\n"
          ]
        },
        {
          "output_type": "stream",
          "name": "stderr",
          "text": []
        },
        {
          "output_type": "stream",
          "name": "stdout",
          "text": [
            "Epoch 21/30 — 121.1s | Train: 1.2031 | Val: 1.0708\n"
          ]
        },
        {
          "output_type": "stream",
          "name": "stderr",
          "text": []
        },
        {
          "output_type": "stream",
          "name": "stdout",
          "text": [
            "Epoch 22/30 — 121.3s | Train: 1.1969 | Val: 1.0703\n"
          ]
        },
        {
          "output_type": "stream",
          "name": "stderr",
          "text": []
        },
        {
          "output_type": "stream",
          "name": "stdout",
          "text": [
            "Epoch 23/30 — 121.1s | Train: 1.2004 | Val: 1.0689\n"
          ]
        },
        {
          "output_type": "stream",
          "name": "stderr",
          "text": []
        },
        {
          "output_type": "stream",
          "name": "stdout",
          "text": [
            "Epoch 24/30 — 120.3s | Train: 1.1898 | Val: 1.0705\n"
          ]
        },
        {
          "output_type": "stream",
          "name": "stderr",
          "text": []
        },
        {
          "output_type": "stream",
          "name": "stdout",
          "text": [
            "Epoch 25/30 — 120.2s | Train: 1.1938 | Val: 1.0665\n"
          ]
        },
        {
          "output_type": "stream",
          "name": "stderr",
          "text": []
        },
        {
          "output_type": "stream",
          "name": "stdout",
          "text": [
            "Epoch 26/30 — 120.1s | Train: 1.2027 | Val: 1.0695\n"
          ]
        },
        {
          "output_type": "stream",
          "name": "stderr",
          "text": []
        },
        {
          "output_type": "stream",
          "name": "stdout",
          "text": [
            "Epoch 27/30 — 120.0s | Train: 1.1862 | Val: 1.0689\n"
          ]
        },
        {
          "output_type": "stream",
          "name": "stderr",
          "text": []
        },
        {
          "output_type": "stream",
          "name": "stdout",
          "text": [
            "Epoch 28/30 — 120.1s | Train: 1.1770 | Val: 1.0691\n"
          ]
        },
        {
          "output_type": "stream",
          "name": "stderr",
          "text": []
        },
        {
          "output_type": "stream",
          "name": "stdout",
          "text": [
            "Epoch 29/30 — 120.2s | Train: 1.1859 | Val: 1.0687\n"
          ]
        },
        {
          "output_type": "stream",
          "name": "stderr",
          "text": []
        },
        {
          "output_type": "stream",
          "name": "stdout",
          "text": [
            "Epoch 30/30 — 119.9s | Train: 1.1906 | Val: 1.0687\n",
            "\n",
            "🏁 Training completed in 60.3m, best_val_loss=1.0665\n"
          ]
        }
      ]
    },
    {
      "cell_type": "code",
      "source": [
        "# ─── 6️⃣ LOAD BEST MODEL & FINAL TEST EVALUATION ────────────────────────────────\n",
        "model.load_state_dict(torch.load(\"final_swin_model.pth\"))\n",
        "model.eval()\n",
        "\n",
        "all_labels, all_preds, all_probs = [], [], []\n",
        "t_inf = time.time()\n",
        "with torch.no_grad():\n",
        "    for imgs, lbls in tqdm(test_loader, desc=\"Test Inference\"):\n",
        "        imgs = imgs.to(DEVICE)\n",
        "        out  = model(imgs)\n",
        "        probs = torch.softmax(out, dim=1).cpu().numpy()\n",
        "        preds = np.argmax(probs, axis=1)\n",
        "        all_probs.extend(probs)\n",
        "        all_preds.extend(preds)\n",
        "        all_labels.extend(lbls.numpy())\n",
        "inf_time = time.time() - t_inf\n",
        "\n",
        "all_labels = np.array(all_labels)\n",
        "all_preds  = np.array(all_preds)\n",
        "all_probs  = np.array(all_probs)\n",
        "\n",
        "# ─── 7️⃣ METRICS ───────────────────────────────────────────────────────────────\n",
        "conf = confusion_matrix(all_labels, all_preds)\n",
        "acc   = accuracy_score(all_labels, all_preds)\n",
        "prec  = precision_score(all_labels, all_preds, average='macro')\n",
        "rec   = recall_score(all_labels, all_preds, average='macro')\n",
        "f1    = f1_score(all_labels, all_preds, average='macro')\n",
        "auc_m = roc_auc_score(all_labels, all_probs, multi_class='ovr', average='micro')\n",
        "auc_M = roc_auc_score(all_labels, all_probs, multi_class='ovr', average='macro')\n",
        "\n",
        "# Specificity (macro)\n",
        "specs = []\n",
        "for i in range(NUM_CLASSES):\n",
        "    TP = conf[i,i]\n",
        "    FN = conf[i,:].sum() - TP\n",
        "    FP = conf[:,i].sum() - TP\n",
        "    TN = conf.sum() - TP - FN - FP\n",
        "    specs.append(TN / (TN + FP))\n",
        "spec_macro = np.mean(specs)\n",
        "\n",
        "print(f\"\\nFinal Test Metrics:\")\n",
        "print(f\" • Accuracy       : {acc:.4f}\")\n",
        "print(f\" • Precision (M)  : {prec:.4f}\")\n",
        "print(f\" • Recall    (M)  : {rec:.4f}\")\n",
        "print(f\" • F1-Score  (M)  : {f1:.4f}\")\n",
        "print(f\" • AUC-micro      : {auc_m:.4f}\")\n",
        "print(f\" • AUC-macro      : {auc_M:.4f}\")\n",
        "print(f\" • Sensitivity (M): {rec:.4f}\")\n",
        "print(f\" • Specificity (M): {spec_macro:.4f}\")\n",
        "print(f\" • Train Time     : {(time.time()-t0):.1f}s\")\n",
        "print(f\" • Inference Time : {inf_time:.1f}s\")\n",
        "\n",
        "# ─── 8️⃣ PLOTS ───────────────────────────────────────────────────────────────\n",
        "plt.figure(figsize=(7,6))\n",
        "sns.heatmap(conf, annot=True, fmt='d', cmap='Blues',\n",
        "            xticklabels=test_ds.classes, yticklabels=test_ds.classes)\n",
        "plt.title(\"Confusion Matrix\"); plt.xlabel(\"Predicted\"); plt.ylabel(\"Actual\"); plt.show()\n",
        "\n",
        "plt.figure(figsize=(8,6))\n",
        "fpr, tpr, roc_auc = {}, {}, {}\n",
        "for i, cls in enumerate(test_ds.classes):\n",
        "    fpr[i], tpr[i], _ = roc_curve((all_labels==i).astype(int), all_probs[:,i])\n",
        "    roc_auc[i] = auc(fpr[i], tpr[i])\n",
        "    plt.plot(fpr[i], tpr[i], label=f\"{cls} (AUC={roc_auc[i]:.2f})\")\n",
        "plt.plot([0,1],[0,1],'k--'); plt.title(\"ROC Curves\"); plt.xlabel(\"FPR\"); plt.ylabel(\"TPR\"); plt.legend(); plt.show()\n",
        "\n",
        "plt.figure(figsize=(8,5))\n",
        "plt.plot(range(1, len(train_losses)+1), train_losses, label='Train Loss')\n",
        "plt.plot(range(1, len(val_losses)+1),   val_losses,   label='Val Loss')\n",
        "plt.title(\"Epoch vs Loss\"); plt.xlabel(\"Epoch\"); plt.ylabel(\"Loss\"); plt.legend(); plt.show()"
      ],
      "metadata": {
        "colab": {
          "base_uri": "https://localhost:8080/",
          "height": 1000
        },
        "id": "e95YqyW4moV4",
        "outputId": "0237d969-8574-4985-ab45-c5dff6469a15"
      },
      "execution_count": null,
      "outputs": [
        {
          "output_type": "stream",
          "name": "stderr",
          "text": [
            "Test Inference: 100%|██████████| 62/62 [00:06<00:00,  9.40it/s]\n"
          ]
        },
        {
          "output_type": "stream",
          "name": "stdout",
          "text": [
            "\n",
            "Final Test Metrics:\n",
            " • Accuracy       : 0.6164\n",
            " • Precision (M)  : 0.6186\n",
            " • Recall    (M)  : 0.6172\n",
            " • F1-Score  (M)  : 0.6154\n",
            " • AUC-micro      : 0.8721\n",
            " • AUC-macro      : 0.8640\n",
            " • Sensitivity (M): 0.6172\n",
            " • Specificity (M): 0.9041\n",
            " • Train Time     : 4655.2s\n",
            " • Inference Time : 6.6s\n"
          ]
        },
        {
          "output_type": "display_data",
          "data": {
            "text/plain": [
              "<Figure size 700x600 with 2 Axes>"
            ],
            "image/png": "[encoded data removed]"
          },
          "metadata": {}
        },
        {
          "output_type": "display_data",
          "data": {
            "text/plain": [
              "<Figure size 800x600 with 1 Axes>"
            ],
            "image/png": "[encoded data removed]"
          },
          "metadata": {}
        },
        {
          "output_type": "display_data",
          "data": {
            "text/plain": [
              "<Figure size 800x500 with 1 Axes>"
            ],
            "image/png": "[encoded data removed]"
          },
          "metadata": {}
        }
      ]
    },
    {
      "cell_type": "code",
      "source": [
        "# 1️⃣1️⃣ Model Kaydetme\n",
        "save_path = \"swin_model.pth\"\n",
        "torch.save(model.state_dict(), save_path)\n",
        "print(f\"\\n✅ Model kaydedildi: {save_path}\")"
      ],
      "metadata": {
        "id": "l0NRve8JmoYA"
      },
      "execution_count": null,
      "outputs": []
    }
  ]
}