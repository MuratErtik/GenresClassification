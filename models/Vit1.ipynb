{
  "cells": [
    {
      "cell_type": "code",
      "execution_count": null,
      "metadata": {
        "colab": {
          "base_uri": "https://localhost:8080/"
        },
        "id": "gXKac2-LAwVm",
        "outputId": "455c5d3b-fc24-4181-bf04-dec4c81719a6"
      },
      "outputs": [
        {
          "output_type": "stream",
          "name": "stdout",
          "text": [
            "Drive already mounted at /content/drive; to attempt to forcibly remount, call drive.mount(\"/content/drive\", force_remount=True).\n",
            "✅ /content/drive/MyDrive/yenidataset_split.zip içeriği /content/yenidataset_split3 klasörüne çıkarıldı.\n"
          ]
        }
      ],
      "source": [
        "from google.colab import drive\n",
        "drive.mount('/content/drive')\n",
        "\n",
        "zip_path = \"/content/drive/MyDrive/yenidataset_split.zip\"\n",
        "\n",
        "dest_dir = \"/content/yenidataset_split3\"\n",
        "\n",
        "import zipfile\n",
        "with zipfile.ZipFile(zip_path, 'r') as zip_ref:\n",
        "    zip_ref.extractall(dest_dir)\n",
        "\n",
        "print(f\"✅ {zip_path} içeriği {dest_dir} klasörüne çıkarıldı.\")\n"
      ]
    },
    {
      "cell_type": "code",
      "execution_count": null,
      "metadata": {
        "id": "AC9YTP2uAylR"
      },
      "outputs": [],
      "source": [
        "import os\n",
        "import time\n",
        "import random\n",
        "import numpy as np\n",
        "import torch\n",
        "import torch.nn as nn\n",
        "import timm\n",
        "\n",
        "from torchvision import transforms\n",
        "from torchvision.datasets import ImageFolder\n",
        "from torch.utils.data import DataLoader\n",
        "from sklearn.metrics import (\n",
        "    accuracy_score, precision_score, recall_score, f1_score,\n",
        "    roc_auc_score, confusion_matrix, roc_curve, auc\n",
        ")\n",
        "import matplotlib.pyplot as plt\n",
        "import seaborn as sns\n",
        "from tqdm import tqdm"
      ]
    },
    {
      "cell_type": "code",
      "execution_count": null,
      "metadata": {
        "id": "dFnsu9K_Ayn8"
      },
      "outputs": [],
      "source": [
        "# ─── 1️⃣ CONFIG ────────────────────────────────────────────────────────────────\n",
        "EPOCHS       = 30\n",
        "BATCH_SIZE   = 32\n",
        "IMG_SIZE     = 224\n",
        "NUM_CLASSES  = 5\n",
        "DATA_PATH    = \"/content/yenidataset_split3/yenidataset_split\"\n",
        "DEVICE       = torch.device(\"cuda\" if torch.cuda.is_available() else \"cpu\")\n",
        "SEED         = 42\n",
        "LR           = 1e-5\n",
        "WEIGHT_DECAY = 2e-2\n",
        "\n",
        "# Reproducibility\n",
        "torch.manual_seed(SEED)\n",
        "np.random.seed(SEED)\n",
        "random.seed(SEED)\n",
        "if DEVICE.type == 'cuda':\n",
        "    torch.cuda.manual_seed(SEED)"
      ]
    },
    {
      "cell_type": "code",
      "execution_count": null,
      "metadata": {
        "id": "XOWioUShAyq-"
      },
      "outputs": [],
      "source": [
        "# ─── 2️⃣ TRANSFORMS ─────────────────────────────────────────────────────────────\n",
        "mean, std = [0.485, 0.456, 0.406], [0.229, 0.224, 0.225]\n",
        "\n",
        "train_transform = transforms.Compose([\n",
        "    transforms.RandomResizedCrop(IMG_SIZE, scale=(0.7, 1.0)),\n",
        "    transforms.RandomHorizontalFlip(),\n",
        "    transforms.RandomRotation(30),\n",
        "    transforms.ColorJitter(0.3, 0.3, 0.3, 0.2),\n",
        "    transforms.RandomPerspective(distortion_scale=0.4, p=0.5),\n",
        "    transforms.RandomAffine(degrees=20, translate=(0.1, 0.1)),\n",
        "    transforms.ToTensor(),\n",
        "    transforms.Normalize(mean, std)\n",
        "])\n",
        "\n",
        "val_transform = transforms.Compose([\n",
        "    transforms.Resize((IMG_SIZE, IMG_SIZE)),\n",
        "    transforms.ToTensor(),\n",
        "    transforms.Normalize(mean, std)\n",
        "])\n",
        "\n",
        "test_transform = transforms.Compose([\n",
        "    transforms.Resize((IMG_SIZE, IMG_SIZE)),\n",
        "    transforms.ToTensor(),\n",
        "    transforms.Normalize(mean, std)\n",
        "])\n"
      ]
    },
    {
      "cell_type": "code",
      "execution_count": null,
      "metadata": {
        "id": "2Cf1znUjAytb"
      },
      "outputs": [],
      "source": [
        "# ─── 3️⃣ DATASETS & DATALOADERS ───────────────────────────────────────────────\n",
        "train_ds = ImageFolder(os.path.join(DATA_PATH, \"train\"), transform=train_transform)\n",
        "val_ds   = ImageFolder(os.path.join(DATA_PATH, \"val\"),   transform=val_transform)\n",
        "test_ds  = ImageFolder(os.path.join(DATA_PATH, \"test\"),  transform=test_transform)\n",
        "\n",
        "train_loader = DataLoader(train_ds, batch_size=BATCH_SIZE, shuffle=True,\n",
        "                          num_workers=2, pin_memory=True)\n",
        "val_loader   = DataLoader(val_ds,   batch_size=BATCH_SIZE, shuffle=False,\n",
        "                          num_workers=2, pin_memory=True)\n",
        "test_loader  = DataLoader(test_ds,  batch_size=BATCH_SIZE, shuffle=False,\n",
        "                          num_workers=2, pin_memory=True)"
      ]
    },
    {
      "cell_type": "code",
      "execution_count": null,
      "metadata": {
        "colab": {
          "base_uri": "https://localhost:8080/",
          "height": 171,
          "referenced_widgets": [
            "ebb56c456b8e4e48b43c8ebc30be56a9",
            "97efbece38f747b2acbe4d3bcba4d637",
            "c13dfb6488f7411caff360f90929e7af",
            "2fa33324bf9e4b7c986fe4df665547ac",
            "f38ad1ecb8584463874d0c122ceb6b89",
            "da3cdcd5a4c847278853cb69536fcf87",
            "adabc1cb48d6488c83613a051412d18f",
            "b8ed4217a9a24cb0b8804a86163520ea",
            "38847ed9ef144617bb10b664a9019699",
            "6942470f36a04b5d95ba9f996a9dabbc",
            "0d9faa2359dc4e938604f540daca1a85"
          ]
        },
        "id": "ETyMxXVoAyv6",
        "outputId": "f99cb279-9d91-4df4-c4cd-d59938b9ccb5"
      },
      "outputs": [
        {
          "output_type": "stream",
          "name": "stderr",
          "text": [
            "/usr/local/lib/python3.11/dist-packages/huggingface_hub/utils/_auth.py:94: UserWarning: \n",
            "The secret `HF_TOKEN` does not exist in your Colab secrets.\n",
            "To authenticate with the Hugging Face Hub, create a token in your settings tab (https://huggingface.co/settings/tokens), set it as secret in your Google Colab and restart your session.\n",
            "You will be able to reuse this secret in all of your notebooks.\n",
            "Please note that authentication is recommended but still optional to access public models or datasets.\n",
            "  warnings.warn(\n"
          ]
        },
        {
          "output_type": "display_data",
          "data": {
            "text/plain": [
              "model.safetensors:   0%|          | 0.00/346M [00:00<?, ?B/s]"
            ],
            "application/vnd.jupyter.widget-view+json": {
              "version_major": 2,
              "version_minor": 0,
              "model_id": "ebb56c456b8e4e48b43c8ebc30be56a9"
            }
          },
          "metadata": {}
        }
      ],
      "source": [
        "# ─── 4️⃣ MODEL, LOSS, OPTIMIZER & SCHEDULER ─────────────────────────────────────\n",
        "model = timm.create_model(\n",
        "    'vit_base_patch16_224',\n",
        "    pretrained=True,\n",
        "    num_classes=NUM_CLASSES,\n",
        "    drop_rate=0.5,\n",
        "    drop_path_rate=0.3\n",
        ").to(DEVICE)\n",
        "\n",
        "criterion = nn.CrossEntropyLoss()\n",
        "optimizer = torch.optim.AdamW(model.parameters(), lr=LR, weight_decay=WEIGHT_DECAY)\n",
        "scheduler = torch.optim.lr_scheduler.CosineAnnealingLR(optimizer, T_max=EPOCHS)\n",
        "\n",
        "def mixup_data(x, y, alpha=0.4):\n",
        "    lam = np.random.beta(alpha, alpha)\n",
        "    batch_size = x.size()[0]\n",
        "    index = torch.randperm(batch_size).to(DEVICE)\n",
        "    mixed_x = lam * x + (1 - lam) * x[index, :]\n",
        "    y_a, y_b = y, y[index]\n",
        "    return mixed_x, y_a, y_b, lam"
      ]
    },
    {
      "cell_type": "code",
      "execution_count": null,
      "metadata": {
        "colab": {
          "base_uri": "https://localhost:8080/"
        },
        "id": "01ur2ODoAyy3",
        "outputId": "040d0c64-4dbf-4cb2-8b41-0529e7bb3082"
      },
      "outputs": [
        {
          "output_type": "stream",
          "name": "stderr",
          "text": []
        },
        {
          "output_type": "stream",
          "name": "stdout",
          "text": [
            "Epoch 1/30 — 113.9s | Train: 1.5767 | Val: 1.2423\n"
          ]
        },
        {
          "output_type": "stream",
          "name": "stderr",
          "text": []
        },
        {
          "output_type": "stream",
          "name": "stdout",
          "text": [
            "Epoch 2/30 — 112.6s | Train: 1.4099 | Val: 1.2288\n"
          ]
        },
        {
          "output_type": "stream",
          "name": "stderr",
          "text": []
        },
        {
          "output_type": "stream",
          "name": "stdout",
          "text": [
            "Epoch 3/30 — 112.5s | Train: 1.3519 | Val: 1.1387\n"
          ]
        },
        {
          "output_type": "stream",
          "name": "stderr",
          "text": []
        },
        {
          "output_type": "stream",
          "name": "stdout",
          "text": [
            "Epoch 4/30 — 112.6s | Train: 1.3286 | Val: 1.1278\n"
          ]
        },
        {
          "output_type": "stream",
          "name": "stderr",
          "text": []
        },
        {
          "output_type": "stream",
          "name": "stdout",
          "text": [
            "Epoch 5/30 — 112.6s | Train: 1.2939 | Val: 1.1419\n"
          ]
        },
        {
          "output_type": "stream",
          "name": "stderr",
          "text": []
        },
        {
          "output_type": "stream",
          "name": "stdout",
          "text": [
            "Epoch 6/30 — 112.5s | Train: 1.2739 | Val: 1.1003\n"
          ]
        },
        {
          "output_type": "stream",
          "name": "stderr",
          "text": []
        },
        {
          "output_type": "stream",
          "name": "stdout",
          "text": [
            "Epoch 7/30 — 112.7s | Train: 1.2663 | Val: 1.0777\n"
          ]
        },
        {
          "output_type": "stream",
          "name": "stderr",
          "text": []
        },
        {
          "output_type": "stream",
          "name": "stdout",
          "text": [
            "Epoch 8/30 — 112.4s | Train: 1.2599 | Val: 1.0989\n"
          ]
        },
        {
          "output_type": "stream",
          "name": "stderr",
          "text": []
        },
        {
          "output_type": "stream",
          "name": "stdout",
          "text": [
            "Epoch 9/30 — 112.5s | Train: 1.2485 | Val: 1.0922\n"
          ]
        },
        {
          "output_type": "stream",
          "name": "stderr",
          "text": []
        },
        {
          "output_type": "stream",
          "name": "stdout",
          "text": [
            "Epoch 10/30 — 112.6s | Train: 1.2337 | Val: 1.0629\n"
          ]
        },
        {
          "output_type": "stream",
          "name": "stderr",
          "text": []
        },
        {
          "output_type": "stream",
          "name": "stdout",
          "text": [
            "Epoch 11/30 — 112.4s | Train: 1.2159 | Val: 1.0658\n"
          ]
        },
        {
          "output_type": "stream",
          "name": "stderr",
          "text": []
        },
        {
          "output_type": "stream",
          "name": "stdout",
          "text": [
            "Epoch 12/30 — 112.6s | Train: 1.2167 | Val: 1.0896\n"
          ]
        },
        {
          "output_type": "stream",
          "name": "stderr",
          "text": []
        },
        {
          "output_type": "stream",
          "name": "stdout",
          "text": [
            "Epoch 13/30 — 112.8s | Train: 1.2040 | Val: 1.0830\n"
          ]
        },
        {
          "output_type": "stream",
          "name": "stderr",
          "text": []
        },
        {
          "output_type": "stream",
          "name": "stdout",
          "text": [
            "Epoch 14/30 — 112.5s | Train: 1.1881 | Val: 1.0513\n"
          ]
        },
        {
          "output_type": "stream",
          "name": "stderr",
          "text": []
        },
        {
          "output_type": "stream",
          "name": "stdout",
          "text": [
            "Epoch 15/30 — 112.6s | Train: 1.1888 | Val: 1.0711\n"
          ]
        },
        {
          "output_type": "stream",
          "name": "stderr",
          "text": []
        },
        {
          "output_type": "stream",
          "name": "stdout",
          "text": [
            "Epoch 16/30 — 112.5s | Train: 1.1798 | Val: 1.0674\n"
          ]
        },
        {
          "output_type": "stream",
          "name": "stderr",
          "text": []
        },
        {
          "output_type": "stream",
          "name": "stdout",
          "text": [
            "Epoch 17/30 — 112.5s | Train: 1.1701 | Val: 1.0595\n"
          ]
        },
        {
          "output_type": "stream",
          "name": "stderr",
          "text": []
        },
        {
          "output_type": "stream",
          "name": "stdout",
          "text": [
            "Epoch 18/30 — 112.3s | Train: 1.1647 | Val: 1.0679\n"
          ]
        },
        {
          "output_type": "stream",
          "name": "stderr",
          "text": []
        },
        {
          "output_type": "stream",
          "name": "stdout",
          "text": [
            "Epoch 19/30 — 112.6s | Train: 1.1464 | Val: 1.0669\n"
          ]
        },
        {
          "output_type": "stream",
          "name": "stderr",
          "text": []
        },
        {
          "output_type": "stream",
          "name": "stdout",
          "text": [
            "Epoch 20/30 — 112.6s | Train: 1.1544 | Val: 1.0655\n"
          ]
        },
        {
          "output_type": "stream",
          "name": "stderr",
          "text": []
        },
        {
          "output_type": "stream",
          "name": "stdout",
          "text": [
            "Epoch 21/30 — 112.6s | Train: 1.1429 | Val: 1.0658\n"
          ]
        },
        {
          "output_type": "stream",
          "name": "stderr",
          "text": []
        },
        {
          "output_type": "stream",
          "name": "stdout",
          "text": [
            "Epoch 22/30 — 112.7s | Train: 1.1465 | Val: 1.0581\n"
          ]
        },
        {
          "output_type": "stream",
          "name": "stderr",
          "text": []
        },
        {
          "output_type": "stream",
          "name": "stdout",
          "text": [
            "Epoch 23/30 — 112.5s | Train: 1.1381 | Val: 1.0611\n"
          ]
        },
        {
          "output_type": "stream",
          "name": "stderr",
          "text": []
        },
        {
          "output_type": "stream",
          "name": "stdout",
          "text": [
            "Epoch 24/30 — 112.6s | Train: 1.1284 | Val: 1.0589\n"
          ]
        },
        {
          "output_type": "stream",
          "name": "stderr",
          "text": []
        },
        {
          "output_type": "stream",
          "name": "stdout",
          "text": [
            "Epoch 25/30 — 112.3s | Train: 1.1241 | Val: 1.0655\n"
          ]
        },
        {
          "output_type": "stream",
          "name": "stderr",
          "text": []
        },
        {
          "output_type": "stream",
          "name": "stdout",
          "text": [
            "Epoch 26/30 — 112.5s | Train: 1.1384 | Val: 1.0620\n"
          ]
        },
        {
          "output_type": "stream",
          "name": "stderr",
          "text": []
        },
        {
          "output_type": "stream",
          "name": "stdout",
          "text": [
            "Epoch 27/30 — 112.5s | Train: 1.1101 | Val: 1.0660\n"
          ]
        },
        {
          "output_type": "stream",
          "name": "stderr",
          "text": []
        },
        {
          "output_type": "stream",
          "name": "stdout",
          "text": [
            "Epoch 28/30 — 112.5s | Train: 1.1114 | Val: 1.0661\n"
          ]
        },
        {
          "output_type": "stream",
          "name": "stderr",
          "text": []
        },
        {
          "output_type": "stream",
          "name": "stdout",
          "text": [
            "Epoch 29/30 — 112.5s | Train: 1.1183 | Val: 1.0671\n"
          ]
        },
        {
          "output_type": "stream",
          "name": "stderr",
          "text": []
        },
        {
          "output_type": "stream",
          "name": "stdout",
          "text": [
            "Epoch 30/30 — 112.8s | Train: 1.1229 | Val: 1.0664\n",
            "\n",
            "🏁 Training completed in 56.3m\n"
          ]
        }
      ],
      "source": [
        "# ─── 5️⃣ TRAIN + VALIDATION ──────────────────────────────────────────────────\n",
        "train_losses, val_losses = [], []\n",
        "\n",
        "t0 = time.time()\n",
        "for epoch in range(1, EPOCHS+1):\n",
        "    t_epoch = time.time()\n",
        "\n",
        "    # — Train —\n",
        "    model.train()\n",
        "    run_train = 0.0\n",
        "    for imgs, lbls in tqdm(train_loader, desc=f\"Train {epoch}/{EPOCHS}\", leave=False):\n",
        "        imgs, lbls = imgs.to(DEVICE), lbls.to(DEVICE)\n",
        "        inputs, targets_a, targets_b, lam = mixup_data(imgs, lbls, alpha=0.4)\n",
        "\n",
        "        optimizer.zero_grad()\n",
        "        out = model(inputs)\n",
        "        loss = lam * criterion(out, targets_a) + (1 - lam) * criterion(out, targets_b)\n",
        "        loss.backward()\n",
        "        optimizer.step()\n",
        "        run_train += loss.item()\n",
        "    train_loss = run_train / len(train_loader)\n",
        "    train_losses.append(train_loss)\n",
        "\n",
        "    # — Validation —\n",
        "    model.eval()\n",
        "    run_val = 0.0\n",
        "    with torch.no_grad():\n",
        "        for imgs, lbls in val_loader:\n",
        "            imgs, lbls = imgs.to(DEVICE), lbls.to(DEVICE)\n",
        "            out = model(imgs)\n",
        "            val_loss_batch = criterion(out, lbls)\n",
        "            run_val += val_loss_batch.item()\n",
        "    val_loss = run_val / len(val_loader)\n",
        "    val_losses.append(val_loss)\n",
        "\n",
        "    # Scheduler Update\n",
        "    scheduler.step()\n",
        "\n",
        "    print(f\"Epoch {epoch}/{EPOCHS} — {(time.time()-t_epoch):.1f}s | Train: {train_loss:.4f} | Val: {val_loss:.4f}\")\n",
        "\n",
        "# Final model save after all epochs\n",
        "torch.save(model.state_dict(), \"final_vit_model.pth\")\n",
        "print(f\"\\n🏁 Training completed in {(time.time()-t0)/60:.1f}m\")"
      ]
    },
    {
      "cell_type": "code",
      "execution_count": null,
      "metadata": {
        "colab": {
          "base_uri": "https://localhost:8080/",
          "height": 1000
        },
        "id": "oDiWUweFAy11",
        "outputId": "b8fb0338-6dd1-4786-c12f-0efb4ba3370e"
      },
      "outputs": [
        {
          "output_type": "stream",
          "name": "stderr",
          "text": [
            "Test Inference: 100%|██████████| 62/62 [00:06<00:00,  9.58it/s]\n"
          ]
        },
        {
          "output_type": "stream",
          "name": "stdout",
          "text": [
            "\n",
            "Final Test Metrics:\n",
            " • Accuracy       : 0.6215\n",
            " • Precision (M)  : 0.6169\n",
            " • Recall    (M)  : 0.6222\n",
            " • F1-Score  (M)  : 0.6173\n",
            " • AUC-micro      : 0.8765\n",
            " • AUC-macro      : 0.8683\n",
            " • Sensitivity (M): 0.6222\n",
            " • Specificity (M): 0.9054\n",
            " • Train Time     : 3392.3s\n",
            " • Inference Time : 6.5s\n"
          ]
        },
        {
          "output_type": "display_data",
          "data": {
            "text/plain": [
              "<Figure size 700x600 with 2 Axes>"
            ],
            "image/png": "[encoded data removed]"
          },
          "metadata": {}
        },
        {
          "output_type": "display_data",
          "data": {
            "text/plain": [
              "<Figure size 800x600 with 1 Axes>"
            ],
            "image/png": "[encoded data removed]"
          },
          "metadata": {}
        },
        {
          "output_type": "display_data",
          "data": {
            "text/plain": [
              "<Figure size 800x500 with 1 Axes>"
            ],
            "image/png": "[encoded data removed]"
          },
          "metadata": {}
        }
      ],
      "source": [
        "# ─── 6️⃣ TEST EVALUATION ──────────────────────────────────────────────────────\n",
        "model.load_state_dict(torch.load(\"final_vit_model.pth\"))\n",
        "model.eval()\n",
        "\n",
        "all_labels, all_preds, all_probs = [], [], []\n",
        "t_inf = time.time()\n",
        "with torch.no_grad():\n",
        "    for imgs, lbls in tqdm(test_loader, desc=\"Test Inference\"):\n",
        "        imgs = imgs.to(DEVICE)\n",
        "        out  = model(imgs)\n",
        "        probs = torch.softmax(out, dim=1).cpu().numpy()\n",
        "        preds = np.argmax(probs, axis=1)\n",
        "        all_probs.extend(probs)\n",
        "        all_preds.extend(preds)\n",
        "        all_labels.extend(lbls.numpy())\n",
        "inf_time = time.time() - t_inf\n",
        "\n",
        "all_labels = np.array(all_labels)\n",
        "all_preds  = np.array(all_preds)\n",
        "all_probs  = np.array(all_probs)\n",
        "\n",
        "conf = confusion_matrix(all_labels, all_preds)\n",
        "acc   = accuracy_score(all_labels, all_preds)\n",
        "prec  = precision_score(all_labels, all_preds, average='macro')\n",
        "rec   = recall_score(all_labels, all_preds, average='macro')\n",
        "f1    = f1_score(all_labels, all_preds, average='macro')\n",
        "auc_m = roc_auc_score(all_labels, all_probs, multi_class='ovr', average='micro')\n",
        "auc_M = roc_auc_score(all_labels, all_probs, multi_class='ovr', average='macro')\n",
        "\n",
        "specs = []\n",
        "for i in range(NUM_CLASSES):\n",
        "    TP = conf[i,i]\n",
        "    FN = conf[i,:].sum() - TP\n",
        "    FP = conf[:,i].sum() - TP\n",
        "    TN = conf.sum() - TP - FN - FP\n",
        "    specs.append(TN / (TN + FP))\n",
        "spec_macro = np.mean(specs)\n",
        "\n",
        "print(f\"\\nFinal Test Metrics:\")\n",
        "print(f\" • Accuracy       : {acc:.4f}\")\n",
        "print(f\" • Precision (M)  : {prec:.4f}\")\n",
        "print(f\" • Recall    (M)  : {rec:.4f}\")\n",
        "print(f\" • F1-Score  (M)  : {f1:.4f}\")\n",
        "print(f\" • AUC-micro      : {auc_m:.4f}\")\n",
        "print(f\" • AUC-macro      : {auc_M:.4f}\")\n",
        "print(f\" • Sensitivity (M): {rec:.4f}\")\n",
        "print(f\" • Specificity (M): {spec_macro:.4f}\")\n",
        "print(f\" • Train Time     : {(time.time()-t0):.1f}s\")\n",
        "print(f\" • Inference Time : {inf_time:.1f}s\")\n",
        "\n",
        "# ─── 8️⃣ PLOTS ───────────────────────────────────────────────────────────────\n",
        "plt.figure(figsize=(7,6))\n",
        "sns.heatmap(conf, annot=True, fmt='d', cmap='Blues',\n",
        "            xticklabels=test_ds.classes, yticklabels=test_ds.classes)\n",
        "plt.title(\"Confusion Matrix\"); plt.xlabel(\"Predicted\"); plt.ylabel(\"Actual\"); plt.show()\n",
        "\n",
        "plt.figure(figsize=(8,6))\n",
        "fpr, tpr, roc_auc = {}, {}, {}\n",
        "for i, cls in enumerate(test_ds.classes):\n",
        "    fpr[i], tpr[i], _ = roc_curve((all_labels==i).astype(int), all_probs[:,i])\n",
        "    roc_auc[i] = auc(fpr[i], tpr[i])\n",
        "    plt.plot(fpr[i], tpr[i], label=f\"{cls} (AUC={roc_auc[i]:.2f})\")\n",
        "plt.plot([0,1],[0,1],'k--'); plt.title(\"ROC Curves\"); plt.xlabel(\"FPR\"); plt.ylabel(\"TPR\"); plt.legend(); plt.show()\n",
        "\n",
        "plt.figure(figsize=(8,5))\n",
        "plt.plot(range(1, len(train_losses)+1), train_losses, label='Train Loss')\n",
        "plt.plot(range(1, len(val_losses)+1),   val_losses,   label='Val Loss')\n",
        "plt.title(\"Epoch vs Loss\"); plt.xlabel(\"Epoch\"); plt.ylabel(\"Loss\"); plt.legend(); plt.show()"
      ]
    },
    {
      "cell_type": "code",
      "execution_count": null,
      "metadata": {
        "id": "I8bwrYJhAy4j"
      },
      "outputs": [],
      "source": [
        "# 1️⃣1️⃣ Model Kaydetme\n",
        "save_path = \"vit_model.pth\"\n",
        "torch.save(model.state_dict(), save_path)\n",
        "print(f\"\\n✅ Model kaydedildi: {save_path}\")"
      ]
    },
    {
      "cell_type": "code",
      "execution_count": null,
      "metadata": {
        "id": "IOr0lsTnAy7h"
      },
      "outputs": [],
      "source": []
    },
    {
      "cell_type": "code",
      "execution_count": null,
      "metadata": {
        "id": "yWyLriHRAy9e"
      },
      "outputs": [],
      "source": []
    }
  ],
  "metadata": {
    "accelerator": "GPU",
    "colab": {
      "gpuType": "A100",
      "machine_shape": "hm",
      "provenance": []
    },
    "kernelspec": {
      "display_name": "Python 3",
      "name": "python3"
    },
    "language_info": {
      "name": "python"
    },
    "widgets": {
      "application/vnd.jupyter.widget-state+json": {
        "ebb56c456b8e4e48b43c8ebc30be56a9": {
          "model_module": "@jupyter-widgets/controls",
          "model_name": "HBoxModel",
          "model_module_version": "1.5.0",
          "state": {
            "_dom_classes": [],
            "_model_module": "@jupyter-widgets/controls",
            "_model_module_version": "1.5.0",
            "_model_name": "HBoxModel",
            "_view_count": null,
            "_view_module": "@jupyter-widgets/controls",
            "_view_module_version": "1.5.0",
            "_view_name": "HBoxView",
            "box_style": "",
            "children": [
              "IPY_MODEL_97efbece38f747b2acbe4d3bcba4d637",
              "IPY_MODEL_c13dfb6488f7411caff360f90929e7af",
              "IPY_MODEL_2fa33324bf9e4b7c986fe4df665547ac"
            ],
            "layout": "IPY_MODEL_f38ad1ecb8584463874d0c122ceb6b89"
          }
        },
        "97efbece38f747b2acbe4d3bcba4d637": {
          "model_module": "@jupyter-widgets/controls",
          "model_name": "HTMLModel",
          "model_module_version": "1.5.0",
          "state": {
            "_dom_classes": [],
            "_model_module": "@jupyter-widgets/controls",
            "_model_module_version": "1.5.0",
            "_model_name": "HTMLModel",
            "_view_count": null,
            "_view_module": "@jupyter-widgets/controls",
            "_view_module_version": "1.5.0",
            "_view_name": "HTMLView",
            "description": "",
            "description_tooltip": null,
            "layout": "IPY_MODEL_da3cdcd5a4c847278853cb69536fcf87",
            "placeholder": "​",
            "style": "IPY_MODEL_adabc1cb48d6488c83613a051412d18f",
            "value": "model.safetensors: 100%"
          }
        },
        "c13dfb6488f7411caff360f90929e7af": {
          "model_module": "@jupyter-widgets/controls",
          "model_name": "FloatProgressModel",
          "model_module_version": "1.5.0",
          "state": {
            "_dom_classes": [],
            "_model_module": "@jupyter-widgets/controls",
            "_model_module_version": "1.5.0",
            "_model_name": "FloatProgressModel",
            "_view_count": null,
            "_view_module": "@jupyter-widgets/controls",
            "_view_module_version": "1.5.0",
            "_view_name": "ProgressView",
            "bar_style": "success",
            "description": "",
            "description_tooltip": null,
            "layout": "IPY_MODEL_b8ed4217a9a24cb0b8804a86163520ea",
            "max": 346284714,
            "min": 0,
            "orientation": "horizontal",
            "style": "IPY_MODEL_38847ed9ef144617bb10b664a9019699",
            "value": 346284714
          }
        },
        "2fa33324bf9e4b7c986fe4df665547ac": {
          "model_module": "@jupyter-widgets/controls",
          "model_name": "HTMLModel",
          "model_module_version": "1.5.0",
          "state": {
            "_dom_classes": [],
            "_model_module": "@jupyter-widgets/controls",
            "_model_module_version": "1.5.0",
            "_model_name": "HTMLModel",
            "_view_count": null,
            "_view_module": "@jupyter-widgets/controls",
            "_view_module_version": "1.5.0",
            "_view_name": "HTMLView",
            "description": "",
            "description_tooltip": null,
            "layout": "IPY_MODEL_6942470f36a04b5d95ba9f996a9dabbc",
            "placeholder": "​",
            "style": "IPY_MODEL_0d9faa2359dc4e938604f540daca1a85",
            "value": " 346M/346M [00:00&lt;00:00, 378MB/s]"
          }
        },
        "f38ad1ecb8584463874d0c122ceb6b89": {
          "model_module": "@jupyter-widgets/base",
          "model_name": "LayoutModel",
          "model_module_version": "1.2.0",
          "state": {
            "_model_module": "@jupyter-widgets/base",
            "_model_module_version": "1.2.0",
            "_model_name": "LayoutModel",
            "_view_count": null,
            "_view_module": "@jupyter-widgets/base",
            "_view_module_version": "1.2.0",
            "_view_name": "LayoutView",
            "align_content": null,
            "align_items": null,
            "align_self": null,
            "border": null,
            "bottom": null,
            "display": null,
            "flex": null,
            "flex_flow": null,
            "grid_area": null,
            "grid_auto_columns": null,
            "grid_auto_flow": null,
            "grid_auto_rows": null,
            "grid_column": null,
            "grid_gap": null,
            "grid_row": null,
            "grid_template_areas": null,
            "grid_template_columns": null,
            "grid_template_rows": null,
            "height": null,
            "justify_content": null,
            "justify_items": null,
            "left": null,
            "margin": null,
            "max_height": null,
            "max_width": null,
            "min_height": null,
            "min_width": null,
            "object_fit": null,
            "object_position": null,
            "order": null,
            "overflow": null,
            "overflow_x": null,
            "overflow_y": null,
            "padding": null,
            "right": null,
            "top": null,
            "visibility": null,
            "width": null
          }
        },
        "da3cdcd5a4c847278853cb69536fcf87": {
          "model_module": "@jupyter-widgets/base",
          "model_name": "LayoutModel",
          "model_module_version": "1.2.0",
          "state": {
            "_model_module": "@jupyter-widgets/base",
            "_model_module_version": "1.2.0",
            "_model_name": "LayoutModel",
            "_view_count": null,
            "_view_module": "@jupyter-widgets/base",
            "_view_module_version": "1.2.0",
            "_view_name": "LayoutView",
            "align_content": null,
            "align_items": null,
            "align_self": null,
            "border": null,
            "bottom": null,
            "display": null,
            "flex": null,
            "flex_flow": null,
            "grid_area": null,
            "grid_auto_columns": null,
            "grid_auto_flow": null,
            "grid_auto_rows": null,
            "grid_column": null,
            "grid_gap": null,
            "grid_row": null,
            "grid_template_areas": null,
            "grid_template_columns": null,
            "grid_template_rows": null,
            "height": null,
            "justify_content": null,
            "justify_items": null,
            "left": null,
            "margin": null,
            "max_height": null,
            "max_width": null,
            "min_height": null,
            "min_width": null,
            "object_fit": null,
            "object_position": null,
            "order": null,
            "overflow": null,
            "overflow_x": null,
            "overflow_y": null,
            "padding": null,
            "right": null,
            "top": null,
            "visibility": null,
            "width": null
          }
        },
        "adabc1cb48d6488c83613a051412d18f": {
          "model_module": "@jupyter-widgets/controls",
          "model_name": "DescriptionStyleModel",
          "model_module_version": "1.5.0",
          "state": {
            "_model_module": "@jupyter-widgets/controls",
            "_model_module_version": "1.5.0",
            "_model_name": "DescriptionStyleModel",
            "_view_count": null,
            "_view_module": "@jupyter-widgets/base",
            "_view_module_version": "1.2.0",
            "_view_name": "StyleView",
            "description_width": ""
          }
        },
        "b8ed4217a9a24cb0b8804a86163520ea": {
          "model_module": "@jupyter-widgets/base",
          "model_name": "LayoutModel",
          "model_module_version": "1.2.0",
          "state": {
            "_model_module": "@jupyter-widgets/base",
            "_model_module_version": "1.2.0",
            "_model_name": "LayoutModel",
            "_view_count": null,
            "_view_module": "@jupyter-widgets/base",
            "_view_module_version": "1.2.0",
            "_view_name": "LayoutView",
            "align_content": null,
            "align_items": null,
            "align_self": null,
            "border": null,
            "bottom": null,
            "display": null,
            "flex": null,
            "flex_flow": null,
            "grid_area": null,
            "grid_auto_columns": null,
            "grid_auto_flow": null,
            "grid_auto_rows": null,
            "grid_column": null,
            "grid_gap": null,
            "grid_row": null,
            "grid_template_areas": null,
            "grid_template_columns": null,
            "grid_template_rows": null,
            "height": null,
            "justify_content": null,
            "justify_items": null,
            "left": null,
            "margin": null,
            "max_height": null,
            "max_width": null,
            "min_height": null,
            "min_width": null,
            "object_fit": null,
            "object_position": null,
            "order": null,
            "overflow": null,
            "overflow_x": null,
            "overflow_y": null,
            "padding": null,
            "right": null,
            "top": null,
            "visibility": null,
            "width": null
          }
        },
        "38847ed9ef144617bb10b664a9019699": {
          "model_module": "@jupyter-widgets/controls",
          "model_name": "ProgressStyleModel",
          "model_module_version": "1.5.0",
          "state": {
            "_model_module": "@jupyter-widgets/controls",
            "_model_module_version": "1.5.0",
            "_model_name": "ProgressStyleModel",
            "_view_count": null,
            "_view_module": "@jupyter-widgets/base",
            "_view_module_version": "1.2.0",
            "_view_name": "StyleView",
            "bar_color": null,
            "description_width": ""
          }
        },
        "6942470f36a04b5d95ba9f996a9dabbc": {
          "model_module": "@jupyter-widgets/base",
          "model_name": "LayoutModel",
          "model_module_version": "1.2.0",
          "state": {
            "_model_module": "@jupyter-widgets/base",
            "_model_module_version": "1.2.0",
            "_model_name": "LayoutModel",
            "_view_count": null,
            "_view_module": "@jupyter-widgets/base",
            "_view_module_version": "1.2.0",
            "_view_name": "LayoutView",
            "align_content": null,
            "align_items": null,
            "align_self": null,
            "border": null,
            "bottom": null,
            "display": null,
            "flex": null,
            "flex_flow": null,
            "grid_area": null,
            "grid_auto_columns": null,
            "grid_auto_flow": null,
            "grid_auto_rows": null,
            "grid_column": null,
            "grid_gap": null,
            "grid_row": null,
            "grid_template_areas": null,
            "grid_template_columns": null,
            "grid_template_rows": null,
            "height": null,
            "justify_content": null,
            "justify_items": null,
            "left": null,
            "margin": null,
            "max_height": null,
            "max_width": null,
            "min_height": null,
            "min_width": null,
            "object_fit": null,
            "object_position": null,
            "order": null,
            "overflow": null,
            "overflow_x": null,
            "overflow_y": null,
            "padding": null,
            "right": null,
            "top": null,
            "visibility": null,
            "width": null
          }
        },
        "0d9faa2359dc4e938604f540daca1a85": {
          "model_module": "@jupyter-widgets/controls",
          "model_name": "DescriptionStyleModel",
          "model_module_version": "1.5.0",
          "state": {
            "_model_module": "@jupyter-widgets/controls",
            "_model_module_version": "1.5.0",
            "_model_name": "DescriptionStyleModel",
            "_view_count": null,
            "_view_module": "@jupyter-widgets/base",
            "_view_module_version": "1.2.0",
            "_view_name": "StyleView",
            "description_width": ""
          }
        }
      }
    }
  },
  "nbformat": 4,
  "nbformat_minor": 0
}